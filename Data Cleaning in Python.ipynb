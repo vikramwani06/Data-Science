{
 "cells": [
  {
   "cell_type": "markdown",
   "metadata": {},
   "source": [
    "## Data Cleaning\n"
   ]
  },
  {
   "cell_type": "markdown",
   "metadata": {},
   "source": [
    "***Cleaning data is a process of***\n",
    "\n",
    "<li> Preparing data for analsis because the data almost never comes in clean.\n",
    "<li>Diagnosing data for problems "
   ]
  },
  {
   "cell_type": "markdown",
   "metadata": {},
   "source": [
    "***Common problems that exist in data :***\n",
    "<li> Inconsistent column names \n",
    "<li> Missing Data\n",
    "<li> Outliers\n",
    "<li> Duplicate Rows\n",
    "<li> Untidy Datasets\n",
    "<li> Processing columns before they can be used for data analysis\n",
    "<li> Column types can signal the presence of unexpected data values."
   ]
  },
  {
   "cell_type": "markdown",
   "metadata": {},
   "source": [
    " *** In this assignment, we are going to deal with the prices of oil throughout an year. *** \n"
   ]
  },
  {
   "cell_type": "code",
   "execution_count": 84,
   "metadata": {
    "scrolled": true
   },
   "outputs": [
    {
     "data": {
      "text/html": [
       "<div>\n",
       "<style>\n",
       "    .dataframe thead tr:only-child th {\n",
       "        text-align: right;\n",
       "    }\n",
       "\n",
       "    .dataframe thead th {\n",
       "        text-align: left;\n",
       "    }\n",
       "\n",
       "    .dataframe tbody tr th {\n",
       "        vertical-align: top;\n",
       "    }\n",
       "</style>\n",
       "<table border=\"1\" class=\"dataframe\">\n",
       "  <thead>\n",
       "    <tr style=\"text-align: right;\">\n",
       "      <th></th>\n",
       "      <th>Date</th>\n",
       "      <th>Open</th>\n",
       "      <th>High</th>\n",
       "      <th>Low</th>\n",
       "      <th>Last</th>\n",
       "      <th>Change</th>\n",
       "      <th>Settle</th>\n",
       "      <th>Volume</th>\n",
       "      <th>Previous Day Open Interest</th>\n",
       "    </tr>\n",
       "  </thead>\n",
       "  <tbody>\n",
       "    <tr>\n",
       "      <th>0</th>\n",
       "      <td>10/10/2017</td>\n",
       "      <td>49.55</td>\n",
       "      <td>51.06</td>\n",
       "      <td>49.54</td>\n",
       "      <td>50.94</td>\n",
       "      <td>1.34</td>\n",
       "      <td>50.92</td>\n",
       "      <td>641402.0</td>\n",
       "      <td>407051.0</td>\n",
       "    </tr>\n",
       "    <tr>\n",
       "      <th>1</th>\n",
       "      <td>10/9/2017</td>\n",
       "      <td>49.25</td>\n",
       "      <td>49.79</td>\n",
       "      <td>49.13</td>\n",
       "      <td>49.56</td>\n",
       "      <td>0.29</td>\n",
       "      <td>49.58</td>\n",
       "      <td>487932.0</td>\n",
       "      <td>453631.0</td>\n",
       "    </tr>\n",
       "    <tr>\n",
       "      <th>2</th>\n",
       "      <td>10/6/2017</td>\n",
       "      <td>50.75</td>\n",
       "      <td>50.82</td>\n",
       "      <td>49.10</td>\n",
       "      <td>49.25</td>\n",
       "      <td>1.50</td>\n",
       "      <td>49.29</td>\n",
       "      <td>720752.0</td>\n",
       "      <td>495395.0</td>\n",
       "    </tr>\n",
       "    <tr>\n",
       "      <th>3</th>\n",
       "      <td>10/5/2017</td>\n",
       "      <td>49.88</td>\n",
       "      <td>51.22</td>\n",
       "      <td>49.85</td>\n",
       "      <td>50.75</td>\n",
       "      <td>0.81</td>\n",
       "      <td>50.79</td>\n",
       "      <td>649264.0</td>\n",
       "      <td>511107.0</td>\n",
       "    </tr>\n",
       "    <tr>\n",
       "      <th>4</th>\n",
       "      <td>10/4/2017</td>\n",
       "      <td>50.16</td>\n",
       "      <td>50.67</td>\n",
       "      <td>49.76</td>\n",
       "      <td>49.90</td>\n",
       "      <td>0.44</td>\n",
       "      <td>49.98</td>\n",
       "      <td>596897.0</td>\n",
       "      <td>513316.0</td>\n",
       "    </tr>\n",
       "  </tbody>\n",
       "</table>\n",
       "</div>"
      ],
      "text/plain": [
       "         Date   Open   High    Low   Last  Change  Settle    Volume  \\\n",
       "0  10/10/2017  49.55  51.06  49.54  50.94    1.34   50.92  641402.0   \n",
       "1   10/9/2017  49.25  49.79  49.13  49.56    0.29   49.58  487932.0   \n",
       "2   10/6/2017  50.75  50.82  49.10  49.25    1.50   49.29  720752.0   \n",
       "3   10/5/2017  49.88  51.22  49.85  50.75    0.81   50.79  649264.0   \n",
       "4   10/4/2017  50.16  50.67  49.76  49.90    0.44   49.98  596897.0   \n",
       "\n",
       "   Previous Day Open Interest  \n",
       "0                    407051.0  \n",
       "1                    453631.0  \n",
       "2                    495395.0  \n",
       "3                    511107.0  \n",
       "4                    513316.0  "
      ]
     },
     "execution_count": 84,
     "metadata": {},
     "output_type": "execute_result"
    }
   ],
   "source": [
    "import numpy as np\n",
    "import pandas as pd\n",
    "import os\n",
    "\n",
    "import seaborn as sns\n",
    "import matplotlib.pyplot as plt\n",
    "sns.set(style=\"white\")\n",
    "path = \"C:/Users/viki4/Desktop/Data Science/Oil_Prices1.csv\"\n",
    "data = pd.read_csv(path)\n",
    "data.head()"
   ]
  },
  {
   "cell_type": "markdown",
   "metadata": {},
   "source": [
    "## Explanation :\n",
    "<li>The above code reads the \"Oil_Prices1\" csv from the directory.\n"
   ]
  },
  {
   "cell_type": "code",
   "execution_count": 85,
   "metadata": {},
   "outputs": [
    {
     "data": {
      "text/plain": [
       "Index(['Date', 'Open', 'High', 'Low', 'Last', 'Change', 'Settle', 'Volume',\n",
       "       'Previous Day Open Interest'],\n",
       "      dtype='object')"
      ]
     },
     "execution_count": 85,
     "metadata": {},
     "output_type": "execute_result"
    }
   ],
   "source": [
    "data.columns"
   ]
  },
  {
   "cell_type": "markdown",
   "metadata": {},
   "source": [
    "## Explanation :\n",
    "<li>The above bolck of code returns the Index of the columns of the dataframe. "
   ]
  },
  {
   "cell_type": "code",
   "execution_count": 86,
   "metadata": {},
   "outputs": [
    {
     "data": {
      "text/html": [
       "<div>\n",
       "<style>\n",
       "    .dataframe thead tr:only-child th {\n",
       "        text-align: right;\n",
       "    }\n",
       "\n",
       "    .dataframe thead th {\n",
       "        text-align: left;\n",
       "    }\n",
       "\n",
       "    .dataframe tbody tr th {\n",
       "        vertical-align: top;\n",
       "    }\n",
       "</style>\n",
       "<table border=\"1\" class=\"dataframe\">\n",
       "  <thead>\n",
       "    <tr style=\"text-align: right;\">\n",
       "      <th></th>\n",
       "      <th>Date</th>\n",
       "      <th>Opening</th>\n",
       "      <th>High</th>\n",
       "      <th>Low</th>\n",
       "      <th>Last</th>\n",
       "      <th>Change</th>\n",
       "      <th>Settle</th>\n",
       "      <th>Volume</th>\n",
       "      <th>Interest</th>\n",
       "    </tr>\n",
       "  </thead>\n",
       "  <tbody>\n",
       "    <tr>\n",
       "      <th>0</th>\n",
       "      <td>10/10/2017</td>\n",
       "      <td>49.55</td>\n",
       "      <td>51.06</td>\n",
       "      <td>49.54</td>\n",
       "      <td>50.94</td>\n",
       "      <td>1.34</td>\n",
       "      <td>50.92</td>\n",
       "      <td>641402.0</td>\n",
       "      <td>407051.0</td>\n",
       "    </tr>\n",
       "    <tr>\n",
       "      <th>1</th>\n",
       "      <td>10/9/2017</td>\n",
       "      <td>49.25</td>\n",
       "      <td>49.79</td>\n",
       "      <td>49.13</td>\n",
       "      <td>49.56</td>\n",
       "      <td>0.29</td>\n",
       "      <td>49.58</td>\n",
       "      <td>487932.0</td>\n",
       "      <td>453631.0</td>\n",
       "    </tr>\n",
       "    <tr>\n",
       "      <th>2</th>\n",
       "      <td>10/6/2017</td>\n",
       "      <td>50.75</td>\n",
       "      <td>50.82</td>\n",
       "      <td>49.10</td>\n",
       "      <td>49.25</td>\n",
       "      <td>1.50</td>\n",
       "      <td>49.29</td>\n",
       "      <td>720752.0</td>\n",
       "      <td>495395.0</td>\n",
       "    </tr>\n",
       "    <tr>\n",
       "      <th>3</th>\n",
       "      <td>10/5/2017</td>\n",
       "      <td>49.88</td>\n",
       "      <td>51.22</td>\n",
       "      <td>49.85</td>\n",
       "      <td>50.75</td>\n",
       "      <td>0.81</td>\n",
       "      <td>50.79</td>\n",
       "      <td>649264.0</td>\n",
       "      <td>511107.0</td>\n",
       "    </tr>\n",
       "    <tr>\n",
       "      <th>4</th>\n",
       "      <td>10/4/2017</td>\n",
       "      <td>50.16</td>\n",
       "      <td>50.67</td>\n",
       "      <td>49.76</td>\n",
       "      <td>49.90</td>\n",
       "      <td>0.44</td>\n",
       "      <td>49.98</td>\n",
       "      <td>596897.0</td>\n",
       "      <td>513316.0</td>\n",
       "    </tr>\n",
       "  </tbody>\n",
       "</table>\n",
       "</div>"
      ],
      "text/plain": [
       "         Date  Opening   High    Low   Last  Change  Settle    Volume  \\\n",
       "0  10/10/2017    49.55  51.06  49.54  50.94    1.34   50.92  641402.0   \n",
       "1   10/9/2017    49.25  49.79  49.13  49.56    0.29   49.58  487932.0   \n",
       "2   10/6/2017    50.75  50.82  49.10  49.25    1.50   49.29  720752.0   \n",
       "3   10/5/2017    49.88  51.22  49.85  50.75    0.81   50.79  649264.0   \n",
       "4   10/4/2017    50.16  50.67  49.76  49.90    0.44   49.98  596897.0   \n",
       "\n",
       "   Interest  \n",
       "0  407051.0  \n",
       "1  453631.0  \n",
       "2  495395.0  \n",
       "3  511107.0  \n",
       "4  513316.0  "
      ]
     },
     "execution_count": 86,
     "metadata": {},
     "output_type": "execute_result"
    }
   ],
   "source": [
    "column_names={'Open':'Opening', 'Previous Day Open Interest':'Interest'}\n",
    "\n",
    "data=data.rename(columns = column_names)\n",
    "data.head()"
   ]
  },
  {
   "cell_type": "markdown",
   "metadata": {},
   "source": [
    "## Explanation :\n",
    "<li>The above block of code renames the column \"Previous Day Open Interest\" to \"Interest\" for better readability."
   ]
  },
  {
   "cell_type": "code",
   "execution_count": 183,
   "metadata": {},
   "outputs": [
    {
     "data": {
      "text/html": [
       "<div>\n",
       "<style>\n",
       "    .dataframe thead tr:only-child th {\n",
       "        text-align: right;\n",
       "    }\n",
       "\n",
       "    .dataframe thead th {\n",
       "        text-align: left;\n",
       "    }\n",
       "\n",
       "    .dataframe tbody tr th {\n",
       "        vertical-align: top;\n",
       "    }\n",
       "</style>\n",
       "<table border=\"1\" class=\"dataframe\">\n",
       "  <thead>\n",
       "    <tr style=\"text-align: right;\">\n",
       "      <th></th>\n",
       "      <th>Date</th>\n",
       "      <th>Opening</th>\n",
       "      <th>High</th>\n",
       "      <th>Low</th>\n",
       "      <th>Last</th>\n",
       "      <th>Change</th>\n",
       "      <th>Settle</th>\n",
       "      <th>Volume</th>\n",
       "      <th>Interest</th>\n",
       "    </tr>\n",
       "  </thead>\n",
       "  <tbody>\n",
       "    <tr>\n",
       "      <th>0</th>\n",
       "      <td>10/10/2017</td>\n",
       "      <td>49.55</td>\n",
       "      <td>51.06</td>\n",
       "      <td>49.54</td>\n",
       "      <td>50.94</td>\n",
       "      <td>1.34</td>\n",
       "      <td>50.92</td>\n",
       "      <td>641402</td>\n",
       "      <td>407051</td>\n",
       "    </tr>\n",
       "    <tr>\n",
       "      <th>1</th>\n",
       "      <td>10/9/2017</td>\n",
       "      <td>49.25</td>\n",
       "      <td>49.79</td>\n",
       "      <td>49.13</td>\n",
       "      <td>49.56</td>\n",
       "      <td>0.29</td>\n",
       "      <td>49.58</td>\n",
       "      <td>487932</td>\n",
       "      <td>453631</td>\n",
       "    </tr>\n",
       "    <tr>\n",
       "      <th>2</th>\n",
       "      <td>10/6/2017</td>\n",
       "      <td>50.75</td>\n",
       "      <td>50.82</td>\n",
       "      <td>49.1</td>\n",
       "      <td>49.25</td>\n",
       "      <td>1.5</td>\n",
       "      <td>49.29</td>\n",
       "      <td>720752</td>\n",
       "      <td>495395</td>\n",
       "    </tr>\n",
       "    <tr>\n",
       "      <th>3</th>\n",
       "      <td>10/5/2017</td>\n",
       "      <td>49.88</td>\n",
       "      <td>51.22</td>\n",
       "      <td>49.85</td>\n",
       "      <td>50.75</td>\n",
       "      <td>0.81</td>\n",
       "      <td>50.79</td>\n",
       "      <td>649264</td>\n",
       "      <td>511107</td>\n",
       "    </tr>\n",
       "    <tr>\n",
       "      <th>4</th>\n",
       "      <td>10/4/2017</td>\n",
       "      <td>50.16</td>\n",
       "      <td>50.67</td>\n",
       "      <td>49.76</td>\n",
       "      <td>49.9</td>\n",
       "      <td>0.44</td>\n",
       "      <td>49.98</td>\n",
       "      <td>596897</td>\n",
       "      <td>513316</td>\n",
       "    </tr>\n",
       "  </tbody>\n",
       "</table>\n",
       "</div>"
      ],
      "text/plain": [
       "         Date Opening   High    Low   Last Change Settle  Volume Interest\n",
       "0  10/10/2017   49.55  51.06  49.54  50.94   1.34  50.92  641402   407051\n",
       "1   10/9/2017   49.25  49.79  49.13  49.56   0.29  49.58  487932   453631\n",
       "2   10/6/2017   50.75  50.82   49.1  49.25    1.5  49.29  720752   495395\n",
       "3   10/5/2017   49.88  51.22  49.85  50.75   0.81  50.79  649264   511107\n",
       "4   10/4/2017   50.16  50.67  49.76   49.9   0.44  49.98  596897   513316"
      ]
     },
     "execution_count": 183,
     "metadata": {},
     "output_type": "execute_result"
    }
   ],
   "source": [
    "new_data=data.fillna('0.00')\n",
    "new_data.head()"
   ]
  },
  {
   "cell_type": "markdown",
   "metadata": {},
   "source": [
    "## Explanation :\n",
    "<li>The above block of code fills all tha NaN values in the dataset with \"0.00\", assigns it to a new dataframe \"new_data\" and displays the new dataframe.\n"
   ]
  },
  {
   "cell_type": "code",
   "execution_count": 88,
   "metadata": {},
   "outputs": [
    {
     "data": {
      "text/html": [
       "<div>\n",
       "<style>\n",
       "    .dataframe thead tr:only-child th {\n",
       "        text-align: right;\n",
       "    }\n",
       "\n",
       "    .dataframe thead th {\n",
       "        text-align: left;\n",
       "    }\n",
       "\n",
       "    .dataframe tbody tr th {\n",
       "        vertical-align: top;\n",
       "    }\n",
       "</style>\n",
       "<table border=\"1\" class=\"dataframe\">\n",
       "  <thead>\n",
       "    <tr style=\"text-align: right;\">\n",
       "      <th></th>\n",
       "      <th>Date</th>\n",
       "      <th>Opening</th>\n",
       "      <th>High</th>\n",
       "      <th>Low</th>\n",
       "      <th>Last</th>\n",
       "      <th>Change</th>\n",
       "      <th>Volume</th>\n",
       "      <th>Interest</th>\n",
       "    </tr>\n",
       "  </thead>\n",
       "  <tbody>\n",
       "    <tr>\n",
       "      <th>0</th>\n",
       "      <td>10/10/2017</td>\n",
       "      <td>49.55</td>\n",
       "      <td>51.06</td>\n",
       "      <td>49.54</td>\n",
       "      <td>50.94</td>\n",
       "      <td>1.34</td>\n",
       "      <td>641402</td>\n",
       "      <td>407051</td>\n",
       "    </tr>\n",
       "    <tr>\n",
       "      <th>1</th>\n",
       "      <td>10/9/2017</td>\n",
       "      <td>49.25</td>\n",
       "      <td>49.79</td>\n",
       "      <td>49.13</td>\n",
       "      <td>49.56</td>\n",
       "      <td>0.29</td>\n",
       "      <td>487932</td>\n",
       "      <td>453631</td>\n",
       "    </tr>\n",
       "    <tr>\n",
       "      <th>2</th>\n",
       "      <td>10/6/2017</td>\n",
       "      <td>50.75</td>\n",
       "      <td>50.82</td>\n",
       "      <td>49.1</td>\n",
       "      <td>49.25</td>\n",
       "      <td>1.5</td>\n",
       "      <td>720752</td>\n",
       "      <td>495395</td>\n",
       "    </tr>\n",
       "    <tr>\n",
       "      <th>3</th>\n",
       "      <td>10/5/2017</td>\n",
       "      <td>49.88</td>\n",
       "      <td>51.22</td>\n",
       "      <td>49.85</td>\n",
       "      <td>50.75</td>\n",
       "      <td>0.81</td>\n",
       "      <td>649264</td>\n",
       "      <td>511107</td>\n",
       "    </tr>\n",
       "    <tr>\n",
       "      <th>4</th>\n",
       "      <td>10/4/2017</td>\n",
       "      <td>50.16</td>\n",
       "      <td>50.67</td>\n",
       "      <td>49.76</td>\n",
       "      <td>49.9</td>\n",
       "      <td>0.44</td>\n",
       "      <td>596897</td>\n",
       "      <td>513316</td>\n",
       "    </tr>\n",
       "  </tbody>\n",
       "</table>\n",
       "</div>"
      ],
      "text/plain": [
       "         Date Opening   High    Low   Last Change  Volume Interest\n",
       "0  10/10/2017   49.55  51.06  49.54  50.94   1.34  641402   407051\n",
       "1   10/9/2017   49.25  49.79  49.13  49.56   0.29  487932   453631\n",
       "2   10/6/2017   50.75  50.82   49.1  49.25    1.5  720752   495395\n",
       "3   10/5/2017   49.88  51.22  49.85  50.75   0.81  649264   511107\n",
       "4   10/4/2017   50.16  50.67  49.76   49.9   0.44  596897   513316"
      ]
     },
     "execution_count": 88,
     "metadata": {},
     "output_type": "execute_result"
    }
   ],
   "source": [
    "del new_data['Settle']\n",
    "new_data.head()"
   ]
  },
  {
   "cell_type": "markdown",
   "metadata": {},
   "source": [
    "## Explanation :\n",
    "<li>The above block of code drops the column \"Settle\" from the new dataframe \"new_data\"."
   ]
  },
  {
   "cell_type": "code",
   "execution_count": 96,
   "metadata": {},
   "outputs": [
    {
     "data": {
      "text/html": [
       "<div>\n",
       "<style>\n",
       "    .dataframe thead tr:only-child th {\n",
       "        text-align: right;\n",
       "    }\n",
       "\n",
       "    .dataframe thead th {\n",
       "        text-align: left;\n",
       "    }\n",
       "\n",
       "    .dataframe tbody tr th {\n",
       "        vertical-align: top;\n",
       "    }\n",
       "</style>\n",
       "<table border=\"1\" class=\"dataframe\">\n",
       "  <thead>\n",
       "    <tr style=\"text-align: right;\">\n",
       "      <th></th>\n",
       "      <th>Date</th>\n",
       "      <th>variable</th>\n",
       "      <th>value</th>\n",
       "    </tr>\n",
       "  </thead>\n",
       "  <tbody>\n",
       "    <tr>\n",
       "      <th>0</th>\n",
       "      <td>10/10/2017</td>\n",
       "      <td>Opening</td>\n",
       "      <td>49.55</td>\n",
       "    </tr>\n",
       "    <tr>\n",
       "      <th>1</th>\n",
       "      <td>10/9/2017</td>\n",
       "      <td>Opening</td>\n",
       "      <td>49.25</td>\n",
       "    </tr>\n",
       "    <tr>\n",
       "      <th>2</th>\n",
       "      <td>10/6/2017</td>\n",
       "      <td>Opening</td>\n",
       "      <td>50.75</td>\n",
       "    </tr>\n",
       "    <tr>\n",
       "      <th>3</th>\n",
       "      <td>10/5/2017</td>\n",
       "      <td>Opening</td>\n",
       "      <td>49.88</td>\n",
       "    </tr>\n",
       "    <tr>\n",
       "      <th>4</th>\n",
       "      <td>10/4/2017</td>\n",
       "      <td>Opening</td>\n",
       "      <td>50.16</td>\n",
       "    </tr>\n",
       "  </tbody>\n",
       "</table>\n",
       "</div>"
      ],
      "text/plain": [
       "         Date variable  value\n",
       "0  10/10/2017  Opening  49.55\n",
       "1   10/9/2017  Opening  49.25\n",
       "2   10/6/2017  Opening  50.75\n",
       "3   10/5/2017  Opening  49.88\n",
       "4   10/4/2017  Opening  50.16"
      ]
     },
     "execution_count": 96,
     "metadata": {},
     "output_type": "execute_result"
    }
   ],
   "source": [
    "data_melt = pd.melt(data, id_vars=['Date'],value_vars=['Opening','Last'])\n",
    "data_melt.head()"
   ]
  },
  {
   "cell_type": "markdown",
   "metadata": {},
   "source": [
    "## Explanation :\n",
    "<li>The melt() function unpivots a dataframe from wide format to a long format.\n",
    "<li>Similar to the pivot tables, melt() is used to transform data. Here, the melt() function takes three parameters. First is the dataframe. Second is the id_vars. ID variables are basically the things to be represented on the x-axis. ie. the columns that are to be kept intact and doesn't need to be transformed.   \n",
    "<li>value_vars are the columns that we need to unpivot. If nothing is specified within the value_vars, by default it takes all the columns. Here, the columns to unpivot are the \"Opening\" and \"Last\".\n",
    "<li>data_melt.head() returns first few rows of the dataframe \"data_melt\"."
   ]
  },
  {
   "cell_type": "code",
   "execution_count": 244,
   "metadata": {},
   "outputs": [
    {
     "data": {
      "image/png": "[encoded data removed]",
      "text/plain": [
       "<matplotlib.figure.Figure at 0x1917a146278>"
      ]
     },
     "metadata": {},
     "output_type": "display_data"
    }
   ],
   "source": [
    "f,ax = plt.subplots(figsize=(8,4))\n",
    "\n",
    "sns.set_color_codes(\"dark\")\n",
    "sns.barplot(x=\"Low\", y=\"High\", data=data.query('51.10<Low<51.55'),\n",
    "             color=\"b\")\n",
    "\n",
    "ax.set(ylabel=\"High\",\n",
    "       xlabel=\"Low\")\n",
    "sns.despine(left=True, bottom=True)\n",
    "plt.show()"
   ]
  },
  {
   "cell_type": "markdown",
   "metadata": {},
   "source": [
    "## Explanation :\n",
    "<li>The above block of code visualizes the data in the dataset \"data\" and creates a Barplot of the data.\n",
    "<li>Here, the graph represents the total Lowest price of oil on the x-axis and the Highest price on the y-axis.\n",
    "<li>The line f,ax = plt.subplots(figsize=(8,4)) sets the dimensions of the subplot to 8x4.\n",
    "<li>Here, data=data.query() takes the range of the data to be displayed. \n",
    "<li>ax.set() function is used to set the labels for the axes."
   ]
  },
  {
   "cell_type": "code",
   "execution_count": 91,
   "metadata": {},
   "outputs": [
    {
     "data": {
      "image/png": "[encoded data removed]",
      "text/plain": [
       "<matplotlib.figure.Figure at 0x191193c7668>"
      ]
     },
     "metadata": {},
     "output_type": "display_data"
    }
   ],
   "source": [
    "g = sns.lmplot(x=\"High\", y=\"Low\",truncate=True, size=5, data=data.query('51<=Low<=52'))\n",
    "g.set_axis_labels(\"High\", \"Low\")\n",
    "plt.show()"
   ]
  },
  {
   "cell_type": "markdown",
   "metadata": {},
   "source": [
    "## Explanation : \n",
    "<li> The above block of code creates a scatter plot of the High v/s the lowest price of oil from the \"data\" dataset.\n",
    "<li>The function sns.lmplot() is a combination of regplot() and FacetGrid.\n",
    "<li>lmplot() takes the x-axis and y-axis parameters\n",
    "<li>truncate is a boolean parameter. It is set to True so that the regression line should be bounded by the data limits.\n",
    "<li>size=5 specified the height of the facet.\n",
    "<li>data=data is the dataset.\n"
   ]
  },
  {
   "cell_type": "code",
   "execution_count": 93,
   "metadata": {},
   "outputs": [
    {
     "data": {
      "image/png": "[encoded data removed]",
      "text/plain": [
       "<matplotlib.figure.Figure at 0x1912dc522e8>"
      ]
     },
     "metadata": {},
     "output_type": "display_data"
    }
   ],
   "source": [
    "fig, ax = plt.subplots(figsize=(12, 6))\n",
    "sns.barplot(x='Opening', y='Date', data=data.query('51.10 <= Opening< = 51.80'),\n",
    "            color='#4c72b0')\n",
    "sns.despine()\n",
    "plt.show()"
   ]
  },
  {
   "cell_type": "markdown",
   "metadata": {},
   "source": [
    "## Explanation :\n",
    "<li>The above block of code creates a barplot of the Opening price of oil on the particular dates from the dataframe \"data\".\n",
    "<li>The x-axis represents the Opening price while the y-axis represents the Date.\n",
    "<li>sns.despine() removes the left spines from the plot."
   ]
  },
  {
   "cell_type": "code",
   "execution_count": 101,
   "metadata": {},
   "outputs": [
    {
     "data": {
      "image/png": "[encoded data removed]",
      "text/plain": [
       "<matplotlib.figure.Figure at 0x19112ab68d0>"
      ]
     },
     "metadata": {},
     "output_type": "display_data"
    }
   ],
   "source": [
    "g = sns.factorplot(x=\"Interest\", y=\"Date\", data=data.query('100000<=Interest<=150000'),\n",
    "                   size=5, kind=\"bar\", palette=\"muted\")\n",
    "g.despine(left=True)\n",
    "g.set_ylabels(\"Date\")\n",
    "g.set_xlabels(\"Interest\")\n",
    "plt.show()"
   ]
  },
  {
   "cell_type": "markdown",
   "metadata": {},
   "source": [
    "## Explanation :\n",
    "<li>The above block of code creates a factorplot of kind bar.\n",
    "<li>The graph represents the Interest on the price of oil on the particular dates of the year.\n",
    "<li>The x-axis represents the Interest amount while the y-axis represents the Dates.\n",
    "<li>sns.despine() removes the left spines from the plot."
   ]
  },
  {
   "cell_type": "code",
   "execution_count": 239,
   "metadata": {},
   "outputs": [
    {
     "data": {
      "image/png": "[encoded data removed]",
      "text/plain": [
       "<matplotlib.figure.Figure at 0x1910bbb12b0>"
      ]
     },
     "metadata": {},
     "output_type": "display_data"
    }
   ],
   "source": [
    "sns.regplot(\"Change\", \"Opening\", data=data.query('1.50<=Change<=1.55'),\n",
    "            truncate=False, dropna=True)\n",
    "\n",
    "plt.show()"
   ]
  },
  {
   "cell_type": "markdown",
   "metadata": {},
   "source": [
    "## Explanation :\n",
    "<li>The above block of code creates a Regression plot of the data.\n",
    "<li>The graph represents the change in price of oil with respect to the opening prices.\n",
    "<li>The x-axis represents the Change in price while the y-axis represents the Opening prices.\n",
    "<li>dropna=True drops the NaN values from the dataframe.\n",
    "<li>plt.show() displays the plot."
   ]
  },
  {
   "cell_type": "markdown",
   "metadata": {},
   "source": [
    "## Explanation :\n",
    "<li>The above block of code creates a box plot of the information from the dataset \"data\". \n",
    "<li>The graph represents the change in price of oil on the particular dates of the year.\n",
    "<li>The x-axis represents the Change in price of oil while the y-axis represents the Date.\n",
    "<li>ax.set() is used to set the axis labels.\n",
    "<li>plt.show() displays the plot."
   ]
  },
  {
   "cell_type": "code",
   "execution_count": 206,
   "metadata": {},
   "outputs": [
    {
     "data": {
      "image/png": "[encoded data removed]",
      "text/plain": [
       "<matplotlib.figure.Figure at 0x1914d20e160>"
      ]
     },
     "metadata": {},
     "output_type": "display_data"
    }
   ],
   "source": [
    "f, ax = plt.subplots(figsize=(7, 6))\n",
    "\n",
    "sns.violinplot(x=\"High\", y=\"Low\", data=data.query('41.10<=High<41.60'),\n",
    "            palette=\"vlag\")\n",
    "plt.show()"
   ]
  },
  {
   "cell_type": "markdown",
   "metadata": {},
   "source": [
    "## Explanation :\n",
    "<li>The above block of code creates a violin plot of the information from the dataset \"data\". \n",
    "<li>The graph represents the highest price of oil v/s the lowest price of oil in a particular year.\n",
    "<li>The x-axis represents the Highest price of oil while the y-axis represents the Lowest price of oil.\n",
    "<li>plt.show() displays the plot."
   ]
  },
  {
   "cell_type": "code",
   "execution_count": 221,
   "metadata": {},
   "outputs": [
    {
     "data": {
      "image/png": "[encoded data removed]",
      "text/plain": [
       "<matplotlib.figure.Figure at 0x1912724b438>"
      ]
     },
     "metadata": {},
     "output_type": "display_data"
    }
   ],
   "source": [
    "g = sns.jointplot(\"Opening\", \"Last\", data=data, kind=\"reg\",\n",
    "                  xlim=(0, 60), ylim=(0, 12), color=\"r\", size=7)\n",
    "plt.show()"
   ]
  },
  {
   "cell_type": "markdown",
   "metadata": {},
   "source": [
    "## Explanation :\n",
    "<li>The above block of code creates a joint plot of the information from the dataset \"data\". \n",
    "<li>The graph represents the comparision of the Opening price of oil and its final price.\n",
    "<li>The x-axis represents the Opening price of oil while the y-axis represents the final price i.e, the Last Price.\n",
    "<li>The kind of the plot is regression.\n",
    "<li>xlim and ylim are the axis limits to be set before plotting the graph.\n",
    "<li>size=7 is the size of the figure.\n",
    "<li>plt.show() displays the plot."
   ]
  },
  {
   "cell_type": "code",
   "execution_count": 263,
   "metadata": {},
   "outputs": [
    {
     "data": {
      "image/png": "[encoded data removed]",
      "text/plain": [
       "<matplotlib.figure.Figure at 0x1918b394f98>"
      ]
     },
     "metadata": {},
     "output_type": "display_data"
    }
   ],
   "source": [
    "sns.set(style=\"ticks\")\n",
    "sns.lmplot(x=\"High\", y=\"Low\", col=\"Volume\", hue=\"Volume\", data=data.query('41.10<=High<=41.60'),\n",
    "           col_wrap=2, palette=\"muted\", size=4,\n",
    "           scatter_kws={\"s\": 50, \"alpha\": 1})\n",
    "plt.show()"
   ]
  },
  {
   "cell_type": "markdown",
   "metadata": {},
   "source": [
    "## Explanation :\n",
    "<li>The above block of code creates a lmplot of the information from the dataset \"data\". \n",
    "<li>The graph represents the comparision of the Highest price of oil and its lowest price.\n",
    "<li>The x-axis represents the High price of oil while the y-axis represents the low price.\n",
    "<li>The palette represents colors to be used for the different levels of the hue variable.\n",
    "<li>scatter_kws are the additional keyword arguments to be passed to plt.scatter and plt.plot.\n",
    "<li>size=4 is the size of the figure.\n",
    "<li>plt.show() displays the plot."
   ]
  },
  {
   "cell_type": "markdown",
   "metadata": {},
   "source": [
    "## References: \n",
    "https://seaborn.pydata.org/index.html"
   ]
  }
 ],
 "metadata": {
  "kernelspec": {
   "display_name": "Python 3",
   "language": "python",
   "name": "python3"
  },
  "language_info": {
   "codemirror_mode": {
    "name": "ipython",
    "version": 3
   },
   "file_extension": ".py",
   "mimetype": "text/x-python",
   "name": "python",
   "nbconvert_exporter": "python",
   "pygments_lexer": "ipython3",
   "version": "3.6.4"
  }
 },
 "nbformat": 4,
 "nbformat_minor": 2
}
