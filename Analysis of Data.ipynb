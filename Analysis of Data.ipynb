{
 "cells": [
  {
   "cell_type": "markdown",
   "metadata": {},
   "source": [
    "# Analysis of Data"
   ]
  },
  {
   "cell_type": "markdown",
   "metadata": {},
   "source": [
    "## *** Questions to be addressed for analysing the dataset. *** ##"
   ]
  },
  {
   "cell_type": "code",
   "execution_count": 25,
   "metadata": {
    "scrolled": true
   },
   "outputs": [
    {
     "data": {
      "text/html": [
       "<div>\n",
       "<style>\n",
       "    .dataframe thead tr:only-child th {\n",
       "        text-align: right;\n",
       "    }\n",
       "\n",
       "    .dataframe thead th {\n",
       "        text-align: left;\n",
       "    }\n",
       "\n",
       "    .dataframe tbody tr th {\n",
       "        vertical-align: top;\n",
       "    }\n",
       "</style>\n",
       "<table border=\"1\" class=\"dataframe\">\n",
       "  <thead>\n",
       "    <tr style=\"text-align: right;\">\n",
       "      <th></th>\n",
       "      <th>Date</th>\n",
       "      <th>Open</th>\n",
       "      <th>High</th>\n",
       "      <th>Low</th>\n",
       "      <th>Last</th>\n",
       "      <th>Change</th>\n",
       "      <th>Settle</th>\n",
       "      <th>Volume</th>\n",
       "      <th>Previous Day Open Interest</th>\n",
       "    </tr>\n",
       "  </thead>\n",
       "  <tbody>\n",
       "    <tr>\n",
       "      <th>0</th>\n",
       "      <td>10/10/2017</td>\n",
       "      <td>49.55</td>\n",
       "      <td>51.06</td>\n",
       "      <td>49.54</td>\n",
       "      <td>50.94</td>\n",
       "      <td>1.34</td>\n",
       "      <td>50.92</td>\n",
       "      <td>641402</td>\n",
       "      <td>407051.0</td>\n",
       "    </tr>\n",
       "    <tr>\n",
       "      <th>1</th>\n",
       "      <td>10/9/2017</td>\n",
       "      <td>49.25</td>\n",
       "      <td>49.79</td>\n",
       "      <td>49.13</td>\n",
       "      <td>49.56</td>\n",
       "      <td>0.29</td>\n",
       "      <td>49.58</td>\n",
       "      <td>487932</td>\n",
       "      <td>453631.0</td>\n",
       "    </tr>\n",
       "    <tr>\n",
       "      <th>2</th>\n",
       "      <td>10/6/2017</td>\n",
       "      <td>50.75</td>\n",
       "      <td>50.82</td>\n",
       "      <td>49.10</td>\n",
       "      <td>49.25</td>\n",
       "      <td>1.50</td>\n",
       "      <td>49.29</td>\n",
       "      <td>720752</td>\n",
       "      <td>495395.0</td>\n",
       "    </tr>\n",
       "    <tr>\n",
       "      <th>3</th>\n",
       "      <td>10/5/2017</td>\n",
       "      <td>49.88</td>\n",
       "      <td>51.22</td>\n",
       "      <td>49.85</td>\n",
       "      <td>50.75</td>\n",
       "      <td>0.81</td>\n",
       "      <td>50.79</td>\n",
       "      <td>649264</td>\n",
       "      <td>511107.0</td>\n",
       "    </tr>\n",
       "    <tr>\n",
       "      <th>4</th>\n",
       "      <td>10/4/2017</td>\n",
       "      <td>50.16</td>\n",
       "      <td>50.67</td>\n",
       "      <td>49.76</td>\n",
       "      <td>49.90</td>\n",
       "      <td>0.44</td>\n",
       "      <td>49.98</td>\n",
       "      <td>596897</td>\n",
       "      <td>513316.0</td>\n",
       "    </tr>\n",
       "    <tr>\n",
       "      <th>5</th>\n",
       "      <td>10/3/2017</td>\n",
       "      <td>50.59</td>\n",
       "      <td>50.73</td>\n",
       "      <td>50.14</td>\n",
       "      <td>50.18</td>\n",
       "      <td>0.16</td>\n",
       "      <td>50.42</td>\n",
       "      <td>460593</td>\n",
       "      <td>518158.0</td>\n",
       "    </tr>\n",
       "    <tr>\n",
       "      <th>6</th>\n",
       "      <td>10/2/2017</td>\n",
       "      <td>51.64</td>\n",
       "      <td>51.71</td>\n",
       "      <td>50.07</td>\n",
       "      <td>50.57</td>\n",
       "      <td>1.09</td>\n",
       "      <td>50.58</td>\n",
       "      <td>597671</td>\n",
       "      <td>522982.0</td>\n",
       "    </tr>\n",
       "    <tr>\n",
       "      <th>7</th>\n",
       "      <td>9/29/2017</td>\n",
       "      <td>51.58</td>\n",
       "      <td>51.77</td>\n",
       "      <td>51.25</td>\n",
       "      <td>51.64</td>\n",
       "      <td>0.11</td>\n",
       "      <td>51.67</td>\n",
       "      <td>550344</td>\n",
       "      <td>529373.0</td>\n",
       "    </tr>\n",
       "    <tr>\n",
       "      <th>8</th>\n",
       "      <td>9/28/2017</td>\n",
       "      <td>52.05</td>\n",
       "      <td>52.86</td>\n",
       "      <td>51.22</td>\n",
       "      <td>51.59</td>\n",
       "      <td>0.58</td>\n",
       "      <td>51.56</td>\n",
       "      <td>799316</td>\n",
       "      <td>540544.0</td>\n",
       "    </tr>\n",
       "    <tr>\n",
       "      <th>9</th>\n",
       "      <td>9/27/2017</td>\n",
       "      <td>52.09</td>\n",
       "      <td>52.34</td>\n",
       "      <td>51.63</td>\n",
       "      <td>52.03</td>\n",
       "      <td>0.26</td>\n",
       "      <td>52.14</td>\n",
       "      <td>631972</td>\n",
       "      <td>546765.0</td>\n",
       "    </tr>\n",
       "  </tbody>\n",
       "</table>\n",
       "</div>"
      ],
      "text/plain": [
       "         Date   Open   High    Low   Last  Change  Settle  Volume  \\\n",
       "0  10/10/2017  49.55  51.06  49.54  50.94    1.34   50.92  641402   \n",
       "1   10/9/2017  49.25  49.79  49.13  49.56    0.29   49.58  487932   \n",
       "2   10/6/2017  50.75  50.82  49.10  49.25    1.50   49.29  720752   \n",
       "3   10/5/2017  49.88  51.22  49.85  50.75    0.81   50.79  649264   \n",
       "4   10/4/2017  50.16  50.67  49.76  49.90    0.44   49.98  596897   \n",
       "5   10/3/2017  50.59  50.73  50.14  50.18    0.16   50.42  460593   \n",
       "6   10/2/2017  51.64  51.71  50.07  50.57    1.09   50.58  597671   \n",
       "7   9/29/2017  51.58  51.77  51.25  51.64    0.11   51.67  550344   \n",
       "8   9/28/2017  52.05  52.86  51.22  51.59    0.58   51.56  799316   \n",
       "9   9/27/2017  52.09  52.34  51.63  52.03    0.26   52.14  631972   \n",
       "\n",
       "   Previous Day Open Interest  \n",
       "0                    407051.0  \n",
       "1                    453631.0  \n",
       "2                    495395.0  \n",
       "3                    511107.0  \n",
       "4                    513316.0  \n",
       "5                    518158.0  \n",
       "6                    522982.0  \n",
       "7                    529373.0  \n",
       "8                    540544.0  \n",
       "9                    546765.0  "
      ]
     },
     "execution_count": 25,
     "metadata": {},
     "output_type": "execute_result"
    }
   ],
   "source": [
    "import numpy as np\n",
    "import pandas as pd\n",
    "import os\n",
    "\n",
    "import seaborn as sns\n",
    "import matplotlib.pyplot as plt\n",
    "sns.set(style=\"white\")\n",
    "path = \"C:/Users/viki4/Desktop/Data Science/Oil_Prices.csv\"\n",
    "data = pd.read_csv(path, parse_dates=True)\n",
    "data.head(10)"
   ]
  },
  {
   "cell_type": "code",
   "execution_count": 28,
   "metadata": {},
   "outputs": [
    {
     "data": {
      "text/html": [
       "<div>\n",
       "<style>\n",
       "    .dataframe thead tr:only-child th {\n",
       "        text-align: right;\n",
       "    }\n",
       "\n",
       "    .dataframe thead th {\n",
       "        text-align: left;\n",
       "    }\n",
       "\n",
       "    .dataframe tbody tr th {\n",
       "        vertical-align: top;\n",
       "    }\n",
       "</style>\n",
       "<table border=\"1\" class=\"dataframe\">\n",
       "  <thead>\n",
       "    <tr style=\"text-align: right;\">\n",
       "      <th></th>\n",
       "      <th>Open</th>\n",
       "      <th>High</th>\n",
       "      <th>Low</th>\n",
       "      <th>Last</th>\n",
       "      <th>Change</th>\n",
       "      <th>Settle</th>\n",
       "      <th>Volume</th>\n",
       "      <th>Previous Day Open Interest</th>\n",
       "    </tr>\n",
       "  </thead>\n",
       "  <tbody>\n",
       "    <tr>\n",
       "      <th>count</th>\n",
       "      <td>50.000000</td>\n",
       "      <td>50.000000</td>\n",
       "      <td>50.000000</td>\n",
       "      <td>50.000000</td>\n",
       "      <td>49.000000</td>\n",
       "      <td>50.000000</td>\n",
       "      <td>5.000000e+01</td>\n",
       "      <td>50.000000</td>\n",
       "    </tr>\n",
       "    <tr>\n",
       "      <th>mean</th>\n",
       "      <td>49.076400</td>\n",
       "      <td>49.636400</td>\n",
       "      <td>48.448200</td>\n",
       "      <td>49.081800</td>\n",
       "      <td>0.633469</td>\n",
       "      <td>49.088600</td>\n",
       "      <td>6.623163e+05</td>\n",
       "      <td>412070.400000</td>\n",
       "    </tr>\n",
       "    <tr>\n",
       "      <th>std</th>\n",
       "      <td>1.543784</td>\n",
       "      <td>1.501472</td>\n",
       "      <td>1.552813</td>\n",
       "      <td>1.551044</td>\n",
       "      <td>0.475572</td>\n",
       "      <td>1.558779</td>\n",
       "      <td>2.472855e+05</td>\n",
       "      <td>171306.102072</td>\n",
       "    </tr>\n",
       "    <tr>\n",
       "      <th>min</th>\n",
       "      <td>45.950000</td>\n",
       "      <td>46.720000</td>\n",
       "      <td>45.580000</td>\n",
       "      <td>45.970000</td>\n",
       "      <td>0.020000</td>\n",
       "      <td>45.960000</td>\n",
       "      <td>2.521500e+04</td>\n",
       "      <td>25636.000000</td>\n",
       "    </tr>\n",
       "    <tr>\n",
       "      <th>25%</th>\n",
       "      <td>47.762500</td>\n",
       "      <td>48.455000</td>\n",
       "      <td>47.162500</td>\n",
       "      <td>47.747500</td>\n",
       "      <td>0.230000</td>\n",
       "      <td>47.697500</td>\n",
       "      <td>5.962940e+05</td>\n",
       "      <td>305781.250000</td>\n",
       "    </tr>\n",
       "    <tr>\n",
       "      <th>50%</th>\n",
       "      <td>49.115000</td>\n",
       "      <td>49.685000</td>\n",
       "      <td>48.530000</td>\n",
       "      <td>49.130000</td>\n",
       "      <td>0.500000</td>\n",
       "      <td>49.165000</td>\n",
       "      <td>7.035355e+05</td>\n",
       "      <td>512211.500000</td>\n",
       "    </tr>\n",
       "    <tr>\n",
       "      <th>75%</th>\n",
       "      <td>49.902500</td>\n",
       "      <td>50.665000</td>\n",
       "      <td>49.507500</td>\n",
       "      <td>49.922500</td>\n",
       "      <td>1.010000</td>\n",
       "      <td>49.962500</td>\n",
       "      <td>8.243565e+05</td>\n",
       "      <td>528943.750000</td>\n",
       "    </tr>\n",
       "    <tr>\n",
       "      <th>max</th>\n",
       "      <td>52.120000</td>\n",
       "      <td>52.860000</td>\n",
       "      <td>51.630000</td>\n",
       "      <td>52.130000</td>\n",
       "      <td>1.610000</td>\n",
       "      <td>52.220000</td>\n",
       "      <td>1.113414e+06</td>\n",
       "      <td>592595.000000</td>\n",
       "    </tr>\n",
       "  </tbody>\n",
       "</table>\n",
       "</div>"
      ],
      "text/plain": [
       "            Open       High        Low       Last     Change     Settle  \\\n",
       "count  50.000000  50.000000  50.000000  50.000000  49.000000  50.000000   \n",
       "mean   49.076400  49.636400  48.448200  49.081800   0.633469  49.088600   \n",
       "std     1.543784   1.501472   1.552813   1.551044   0.475572   1.558779   \n",
       "min    45.950000  46.720000  45.580000  45.970000   0.020000  45.960000   \n",
       "25%    47.762500  48.455000  47.162500  47.747500   0.230000  47.697500   \n",
       "50%    49.115000  49.685000  48.530000  49.130000   0.500000  49.165000   \n",
       "75%    49.902500  50.665000  49.507500  49.922500   1.010000  49.962500   \n",
       "max    52.120000  52.860000  51.630000  52.130000   1.610000  52.220000   \n",
       "\n",
       "             Volume  Previous Day Open Interest  \n",
       "count  5.000000e+01                   50.000000  \n",
       "mean   6.623163e+05               412070.400000  \n",
       "std    2.472855e+05               171306.102072  \n",
       "min    2.521500e+04                25636.000000  \n",
       "25%    5.962940e+05               305781.250000  \n",
       "50%    7.035355e+05               512211.500000  \n",
       "75%    8.243565e+05               528943.750000  \n",
       "max    1.113414e+06               592595.000000  "
      ]
     },
     "execution_count": 28,
     "metadata": {},
     "output_type": "execute_result"
    }
   ],
   "source": [
    "data.head(50).describe()"
   ]
  },
  {
   "cell_type": "markdown",
   "metadata": {},
   "source": [
    "## *** Analysis of data that deals with the prices of oil in a particular month. *** ##"
   ]
  },
  {
   "cell_type": "markdown",
   "metadata": {},
   "source": [
    "<li>Here, we consider the data that deals with the Opening, Closing, Highest and lowest price of oil in a particular month.  \n",
    "<li> Also, the data considers the price that is settled for the particular day, i.e the final price of oil for that particular day.\n",
    "<li> The data also specifies the volume of oil sold."
   ]
  },
  {
   "cell_type": "markdown",
   "metadata": {},
   "source": [
    "*** Based on the above data, the following questions can be asked about the dataset. ***"
   ]
  },
  {
   "cell_type": "code",
   "execution_count": 16,
   "metadata": {
    "collapsed": true
   },
   "outputs": [],
   "source": [
    "## Question 1."
   ]
  },
  {
   "cell_type": "markdown",
   "metadata": {},
   "source": [
    "# 1. What can be the total expenditure on oil for the entire year ? #"
   ]
  },
  {
   "cell_type": "markdown",
   "metadata": {},
   "source": [
    "# 2.  What data will be used to answer the question?  #\n",
    "<li> In order to calculate the total expenditure on oil, we con consider the columns \"Settle\", which means the final price of oil on the particular day and \"Volume\" which denotes the total volume of oil sold on that day."
   ]
  },
  {
   "cell_type": "markdown",
   "metadata": {},
   "source": [
    "# 3. Describe a second way to answer the same question? #\n",
    "<li> The alternate way to address the same problem could be Exploratory Data Analysis.\n",
    "<li> Here, we can analyze the weekly or monthly percentage increase/decrease in the price, by plotting a graph of percent increase/decrease versus months. \n",
    "<li> Using this data, we can predict the expenditure in a month and eventually, of an year."
   ]
  },
  {
   "cell_type": "markdown",
   "metadata": {},
   "source": [
    "# 4. What are assumptions and limitations of the approach? #\n",
    "<li> To calculate the total expenditure on the oil, we have assumed that \"Settle\" is the final price of oil for the particular day. \n",
    "<li> For example, say, for the first day, i.e. on 10/10/2017, the Settled price of oil is 50.92 and the volume sold is 641402.\n",
    "<li> Based on these values, we can predict the expenditure on oil on 10/10/2017 => 641402 x 50.92 = 32660190\n",
    "<li> On the second day, i.e. on 10/9/2017 => 487932 x 49.58 = 24191669\n",
    "<li> So, the expenditure for the total week could be the average of the total expenditure for 7 days, say ~26000000.\n",
    "<li> Now, based on the average for 7 days, we can predict the expenditure for an year, i.e. ~26000000 x 4 x 12 = ~1248000000.\n",
    "<li> The limitations of this appraoch is that, the price of oil considered for calculating the expenditure may not be the actual value, due to which, the calculated price may not be accurate. \n",
    "<li> Also, there is a possibility of the price of oil as well as currency falling gradually in the following year.\n",
    "<li> The expenditure may also be inclusive of taxes.\n",
    "<li> This value is estimated assuming that the oil is sold on all the 365 days of the year, which is also a limitation in itself as the oil may not be sold everyday."
   ]
  },
  {
   "cell_type": "markdown",
   "metadata": {},
   "source": [
    "# 5. What is the statement that you will be able to make after doing the analysis ? #\n",
    "<li> The expenditure on oil may not be solely dependent on the settled price and the volume of oil. "
   ]
  },
  {
   "cell_type": "code",
   "execution_count": 15,
   "metadata": {
    "collapsed": true
   },
   "outputs": [],
   "source": [
    "## Question 2."
   ]
  },
  {
   "cell_type": "markdown",
   "metadata": {},
   "source": [
    "# 1.  What could be the price of oil in the future ? #\n"
   ]
  },
  {
   "cell_type": "markdown",
   "metadata": {},
   "source": [
    "# 2. What data will be used to answer the question? #\n",
    "<li> Here, we can predict the price of oil by considering the mean of columns Open, High, Low and Last.\n",
    "<li> For example, the opening price of oil in the first week is ~50, High is ~50, Low is ~49 and Last is ~49. (Average of the \"Open\", \"High\", \"Low\" and \"Last\" values for a week)\n",
    "<li> Now, considering the mean of all the prices, we can predict the price of oil in the future to be ~49.50."
   ]
  },
  {
   "cell_type": "markdown",
   "metadata": {},
   "source": [
    "# 3. Describe a second way to answer the same question? # \n",
    "<li> The alternate way to estimate the price could be by plotting the graph of High vresus Low prices using which, we can predict the limits within which the prices would rise or fall for a particular year. \n",
    "<li> We can plot a graph to analyze the pattern of rise or fall in the prices.\n",
    "<li> Also, using data.describe() as shown above, we can predict the increase or decrease in price by analysing the mean value for the recent entries in the dataset, which turns out to be 49.07.\n"
   ]
  },
  {
   "cell_type": "markdown",
   "metadata": {},
   "source": [
    "# 4.  What are assumptions and limitations of the approach? #\n",
    "<li> The price of oil is assumed to be the mean values of all the prices from the history of the previous year.\n",
    "<li> The data consists of nul values, which are considered to be the mean of the the previous and next day. \n",
    "<li> However, it may be possible that the price may rise or fall to a whole new level in the future.\n",
    "<li> Also, the prices mentioned in the data may be inconsistent."
   ]
  },
  {
   "cell_type": "markdown",
   "metadata": {},
   "source": [
    "# 5. What is the statement that you will be able to make after doing the analysis ? #\n",
    "<li> The price of oil cannot be estimated just by calculating the mean of the prices from the data.\n",
    "<li> The prices may turn out to be a completely new set of figures in the future. "
   ]
  }
 ],
 "metadata": {
  "kernelspec": {
   "display_name": "Python 3",
   "language": "python",
   "name": "python3"
  },
  "language_info": {
   "codemirror_mode": {
    "name": "ipython",
    "version": 3
   },
   "file_extension": ".py",
   "mimetype": "text/x-python",
   "name": "python",
   "nbconvert_exporter": "python",
   "pygments_lexer": "ipython3",
   "version": "3.6.4"
  }
 },
 "nbformat": 4,
 "nbformat_minor": 2
}
