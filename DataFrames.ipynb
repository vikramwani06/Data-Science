{
 "cells": [
  {
   "cell_type": "markdown",
   "metadata": {},
   "source": [
    "*** This is the demonstration of Dataframes in Pandas.***\n"
   ]
  },
  {
   "cell_type": "markdown",
   "metadata": {},
   "source": [
    "\n",
    "###  DataFrames :\n",
    "\n",
    "<li>DataFrame is basically a heterogenous tabular data structure that is used to represent the tabular data.\n",
    "<li>The columns of a dataframe are mutable.\n",
    "<li>The columns of a dataframe can be of different Datatypes.\n",
    "<li>The DataFrame is a dictionary-like structure with labelled axes, ie. Rows and columns.\n",
    "<li>The Dataframes are capable of performing Arithmetic operations on rows and columns."
   ]
  },
  {
   "cell_type": "markdown",
   "metadata": {},
   "source": [
    "***The following example demonstrates the use of Dataframes in Pandas.***"
   ]
  },
  {
   "cell_type": "code",
   "execution_count": 30,
   "metadata": {
    "collapsed": true
   },
   "outputs": [],
   "source": [
    "%matplotlib inline\n",
    "\n",
    "import os\n",
    "import numpy as np\n",
    "import pandas as pd\n",
    "import seaborn as sns\n",
    "import matplotlib.pyplot as plt\n",
    "\n",
    "if int(os.environ.get(\"MODERN_PANDAS_EPUB\", 0)):\n",
    "    import prep # noqa\n",
    "\n",
    "pd.options.display.max_rows = 10\n",
    "sns.set(style='ticks', context='talk')\n"
   ]
  },
  {
   "cell_type": "markdown",
   "metadata": {},
   "source": [
    "***IPython has a set of predefined Magic Functions that can be called in a command line style pattern.\n",
    "There are two kinds of magics viz. Line-Oriented and Cell-Oriented. \n",
    "The Line magics are similar to the command line calls of the OS. Here, they get the rest of the line as the argument and the argumnts are passed without the parenthesis or quotes.  \n",
    "The Line magics are prefixed with the \"%\" sign.\n",
    "The Line magics can return results and can be assigned on the RHS of an assignment. ***\n",
    "\n",
    "<li>%matplotlib inline is a magic function in IPython. Here, inline is a backend provided by IPython which is available only for Jupyter notebook and Jupyter QtConsole.\n",
    "<li>With this backend, the output of the plotting commands is produced and displayed inline directly below the code cell, which can then be saved in a document.\n",
    "\n",
    "<li>Initially, all the required packages like numpy, pandas, seaborn and matplotlib are imported for carrying out the operations on dataframes.\n",
    "<li>\"os.environ\" is a mapping object of the OS library, representing the string environment. Here, os.environ.get(\"MODERN_PANDAS_EPUB\") gets \"MODERN_PANDAS_EPUB\", which is a pathname on the directory.\n",
    " \n",
    "\n",
    "\n",
    "\n",
    "\n"
   ]
  },
  {
   "cell_type": "code",
   "execution_count": 40,
   "metadata": {},
   "outputs": [
    {
     "data": {
      "text/html": [
       "<div>\n",
       "<style>\n",
       "    .dataframe thead tr:only-child th {\n",
       "        text-align: right;\n",
       "    }\n",
       "\n",
       "    .dataframe thead th {\n",
       "        text-align: left;\n",
       "    }\n",
       "\n",
       "    .dataframe tbody tr th {\n",
       "        vertical-align: top;\n",
       "    }\n",
       "</style>\n",
       "<table border=\"1\" class=\"dataframe\">\n",
       "  <thead>\n",
       "    <tr style=\"text-align: right;\">\n",
       "      <th></th>\n",
       "      <th>Date</th>\n",
       "      <th>Start (ET)</th>\n",
       "      <th>Visitor/Neutral</th>\n",
       "      <th>PTS</th>\n",
       "      <th>Home/Neutral</th>\n",
       "      <th>PTS.1</th>\n",
       "      <th></th>\n",
       "      <th>.1</th>\n",
       "      <th>Notes</th>\n",
       "    </tr>\n",
       "  </thead>\n",
       "  <tbody>\n",
       "    <tr>\n",
       "      <th>0</th>\n",
       "      <td>Tue, Oct 27, 2015</td>\n",
       "      <td>8:00 pm</td>\n",
       "      <td>Detroit Pistons</td>\n",
       "      <td>106</td>\n",
       "      <td>Atlanta Hawks</td>\n",
       "      <td>94</td>\n",
       "      <td>Box Score</td>\n",
       "      <td>NaN</td>\n",
       "      <td>NaN</td>\n",
       "    </tr>\n",
       "    <tr>\n",
       "      <th>1</th>\n",
       "      <td>Tue, Oct 27, 2015</td>\n",
       "      <td>8:00 pm</td>\n",
       "      <td>Cleveland Cavaliers</td>\n",
       "      <td>95</td>\n",
       "      <td>Chicago Bulls</td>\n",
       "      <td>97</td>\n",
       "      <td>Box Score</td>\n",
       "      <td>NaN</td>\n",
       "      <td>NaN</td>\n",
       "    </tr>\n",
       "    <tr>\n",
       "      <th>2</th>\n",
       "      <td>Tue, Oct 27, 2015</td>\n",
       "      <td>10:30 pm</td>\n",
       "      <td>New Orleans Pelicans</td>\n",
       "      <td>95</td>\n",
       "      <td>Golden State Warriors</td>\n",
       "      <td>111</td>\n",
       "      <td>Box Score</td>\n",
       "      <td>NaN</td>\n",
       "      <td>NaN</td>\n",
       "    </tr>\n",
       "    <tr>\n",
       "      <th>3</th>\n",
       "      <td>Wed, Oct 28, 2015</td>\n",
       "      <td>7:30 pm</td>\n",
       "      <td>Philadelphia 76ers</td>\n",
       "      <td>95</td>\n",
       "      <td>Boston Celtics</td>\n",
       "      <td>112</td>\n",
       "      <td>Box Score</td>\n",
       "      <td>NaN</td>\n",
       "      <td>NaN</td>\n",
       "    </tr>\n",
       "    <tr>\n",
       "      <th>4</th>\n",
       "      <td>Wed, Oct 28, 2015</td>\n",
       "      <td>7:30 pm</td>\n",
       "      <td>Chicago Bulls</td>\n",
       "      <td>115</td>\n",
       "      <td>Brooklyn Nets</td>\n",
       "      <td>100</td>\n",
       "      <td>Box Score</td>\n",
       "      <td>NaN</td>\n",
       "      <td>NaN</td>\n",
       "    </tr>\n",
       "  </tbody>\n",
       "</table>\n",
       "</div>"
      ],
      "text/plain": [
       "                Date Start (ET)       Visitor/Neutral  PTS  \\\n",
       "0  Tue, Oct 27, 2015    8:00 pm       Detroit Pistons  106   \n",
       "1  Tue, Oct 27, 2015    8:00 pm   Cleveland Cavaliers   95   \n",
       "2  Tue, Oct 27, 2015   10:30 pm  New Orleans Pelicans   95   \n",
       "3  Wed, Oct 28, 2015    7:30 pm    Philadelphia 76ers   95   \n",
       "4  Wed, Oct 28, 2015    7:30 pm         Chicago Bulls  115   \n",
       "\n",
       "            Home/Neutral  PTS.1              .1  Notes  \n",
       "0          Atlanta Hawks     94  Box Score  NaN    NaN  \n",
       "1          Chicago Bulls     97  Box Score  NaN    NaN  \n",
       "2  Golden State Warriors    111  Box Score  NaN    NaN  \n",
       "3         Boston Celtics    112  Box Score  NaN    NaN  \n",
       "4          Brooklyn Nets    100  Box Score  NaN    NaN  "
      ]
     },
     "execution_count": 40,
     "metadata": {},
     "output_type": "execute_result"
    }
   ],
   "source": [
    "fp = 'data-nba.csv'\n",
    "\n",
    "if not os.path.exists('fp'):\n",
    "    tables = pd.read_html(\"http://www.basketball-reference.com/leagues/NBA_2016_games.html\")\n",
    "    games = tables[0]\n",
    "    games.to_csv(fp)\n",
    "else:\n",
    "    games = pd.read_csv(fp)\n",
    "games.head()"
   ]
  },
  {
   "cell_type": "markdown",
   "metadata": {},
   "source": [
    "<li>Here, the string 'data-nba.csv' is assigned to a variable fp.\n",
    "<li>If the file 'data-nba.csv' doesnt exist on the directory, the pd.read_html will read the data from the given website and assign it to the dataframe \"table\". tables[0] is the list of DataFrames.\n",
    "<li>This list is then assigned to games. and converted to CSV format.\n",
    "<li>If the file is already present on the directory, then the CSV file is directly read from the directory."
   ]
  },
  {
   "cell_type": "code",
   "execution_count": 41,
   "metadata": {},
   "outputs": [
    {
     "data": {
      "text/html": [
       "<div>\n",
       "<style>\n",
       "    .dataframe thead tr:only-child th {\n",
       "        text-align: right;\n",
       "    }\n",
       "\n",
       "    .dataframe thead th {\n",
       "        text-align: left;\n",
       "    }\n",
       "\n",
       "    .dataframe tbody tr th {\n",
       "        vertical-align: top;\n",
       "    }\n",
       "</style>\n",
       "<table border=\"1\" class=\"dataframe\">\n",
       "  <thead>\n",
       "    <tr style=\"text-align: right;\">\n",
       "      <th></th>\n",
       "      <th></th>\n",
       "      <th>away_team</th>\n",
       "      <th>away_points</th>\n",
       "      <th>home_team</th>\n",
       "      <th>home_points</th>\n",
       "    </tr>\n",
       "    <tr>\n",
       "      <th>game_id</th>\n",
       "      <th>date</th>\n",
       "      <th></th>\n",
       "      <th></th>\n",
       "      <th></th>\n",
       "      <th></th>\n",
       "    </tr>\n",
       "  </thead>\n",
       "  <tbody>\n",
       "    <tr>\n",
       "      <th>0</th>\n",
       "      <th>2015-10-27</th>\n",
       "      <td>Detroit Pistons</td>\n",
       "      <td>106</td>\n",
       "      <td>Atlanta Hawks</td>\n",
       "      <td>94</td>\n",
       "    </tr>\n",
       "    <tr>\n",
       "      <th>1</th>\n",
       "      <th>2015-10-27</th>\n",
       "      <td>Cleveland Cavaliers</td>\n",
       "      <td>95</td>\n",
       "      <td>Chicago Bulls</td>\n",
       "      <td>97</td>\n",
       "    </tr>\n",
       "    <tr>\n",
       "      <th>2</th>\n",
       "      <th>2015-10-27</th>\n",
       "      <td>New Orleans Pelicans</td>\n",
       "      <td>95</td>\n",
       "      <td>Golden State Warriors</td>\n",
       "      <td>111</td>\n",
       "    </tr>\n",
       "    <tr>\n",
       "      <th>3</th>\n",
       "      <th>2015-10-28</th>\n",
       "      <td>Philadelphia 76ers</td>\n",
       "      <td>95</td>\n",
       "      <td>Boston Celtics</td>\n",
       "      <td>112</td>\n",
       "    </tr>\n",
       "    <tr>\n",
       "      <th>4</th>\n",
       "      <th>2015-10-28</th>\n",
       "      <td>Chicago Bulls</td>\n",
       "      <td>115</td>\n",
       "      <td>Brooklyn Nets</td>\n",
       "      <td>100</td>\n",
       "    </tr>\n",
       "  </tbody>\n",
       "</table>\n",
       "</div>"
      ],
      "text/plain": [
       "                               away_team  away_points              home_team  \\\n",
       "game_id date                                                                   \n",
       "0       2015-10-27       Detroit Pistons          106          Atlanta Hawks   \n",
       "1       2015-10-27   Cleveland Cavaliers           95          Chicago Bulls   \n",
       "2       2015-10-27  New Orleans Pelicans           95  Golden State Warriors   \n",
       "3       2015-10-28    Philadelphia 76ers           95         Boston Celtics   \n",
       "4       2015-10-28         Chicago Bulls          115          Brooklyn Nets   \n",
       "\n",
       "                    home_points  \n",
       "game_id date                     \n",
       "0       2015-10-27           94  \n",
       "1       2015-10-27           97  \n",
       "2       2015-10-27          111  \n",
       "3       2015-10-28          112  \n",
       "4       2015-10-28          100  "
      ]
     },
     "execution_count": 41,
     "metadata": {},
     "output_type": "execute_result"
    }
   ],
   "source": [
    "column_names = {'Date': 'date', 'Start (ET)': 'start',\n",
    "                'Unamed: 2': 'box', 'Visitor/Neutral': 'away_team', \n",
    "                'PTS': 'away_points', 'Home/Neutral': 'home_team',\n",
    "                'PTS.1': 'home_points', 'Unamed: 7': 'n_ot'}\n",
    "\n",
    "games = (games.rename(columns=column_names)\n",
    "    .dropna(thresh=4)\n",
    "    [['date', 'away_team', 'away_points', 'home_team', 'home_points']]\n",
    "    .assign(date=lambda x: pd.to_datetime(x['date'], format='%a, %b %d, %Y'))\n",
    "    .set_index('date', append=True)\n",
    "    .rename_axis([\"game_id\", \"date\"])\n",
    "    .sort_index())\n",
    "games.head()"
   ]
  },
  {
   "cell_type": "markdown",
   "metadata": {},
   "source": [
    "<li>In this block of code, \"column_names\" is a dictionary consisting of key and value pairs.\n",
    "<li>games.rename() renames the column names with the new values from the dictionary. ie. the column \"Date\" is renamed as \"date\" ,\"Visitor/Neutral\" is ranamed as \"away_team\" and so on.\n",
    "<li> .dropna(thresh=4) keeps only the rows that contain atleast 4 not-na values.\n",
    "<li> The assign() function is used to assign new columns to a dataframe. It retirns a copy of the new object with all the original columns in addition to the new ones.\n",
    "<li>In this example, the assign() function is used to set the date format to YYYY-MM-DD and assign it to the column \"date\".\n",
    "<li>set_index() is used to set the dataframe index using one or more existing columns. Here, the index is set using the column \"date\". Here, \"date\" is the key parameter of the set_index() function.\n",
    "<li>rename_axis function alters index columns using input functions. Here, it is used to alter the index name to \"game_id\".\n",
    "<li>sort_index is used to sort objects by labels along an axis."
   ]
  },
  {
   "cell_type": "code",
   "execution_count": 4,
   "metadata": {},
   "outputs": [
    {
     "data": {
      "text/html": [
       "<div>\n",
       "<style>\n",
       "    .dataframe thead tr:only-child th {\n",
       "        text-align: right;\n",
       "    }\n",
       "\n",
       "    .dataframe thead th {\n",
       "        text-align: left;\n",
       "    }\n",
       "\n",
       "    .dataframe tbody tr th {\n",
       "        vertical-align: top;\n",
       "    }\n",
       "</style>\n",
       "<table border=\"1\" class=\"dataframe\">\n",
       "  <thead>\n",
       "    <tr style=\"text-align: right;\">\n",
       "      <th></th>\n",
       "      <th>game_id</th>\n",
       "      <th>date</th>\n",
       "      <th>variable</th>\n",
       "      <th>team</th>\n",
       "    </tr>\n",
       "  </thead>\n",
       "  <tbody>\n",
       "    <tr>\n",
       "      <th>0</th>\n",
       "      <td>0</td>\n",
       "      <td>2015-10-27</td>\n",
       "      <td>away_team</td>\n",
       "      <td>Detroit Pistons</td>\n",
       "    </tr>\n",
       "    <tr>\n",
       "      <th>1</th>\n",
       "      <td>1</td>\n",
       "      <td>2015-10-27</td>\n",
       "      <td>away_team</td>\n",
       "      <td>Cleveland Cavaliers</td>\n",
       "    </tr>\n",
       "    <tr>\n",
       "      <th>2</th>\n",
       "      <td>2</td>\n",
       "      <td>2015-10-27</td>\n",
       "      <td>away_team</td>\n",
       "      <td>New Orleans Pelicans</td>\n",
       "    </tr>\n",
       "    <tr>\n",
       "      <th>3</th>\n",
       "      <td>3</td>\n",
       "      <td>2015-10-28</td>\n",
       "      <td>away_team</td>\n",
       "      <td>Philadelphia 76ers</td>\n",
       "    </tr>\n",
       "    <tr>\n",
       "      <th>4</th>\n",
       "      <td>4</td>\n",
       "      <td>2015-10-28</td>\n",
       "      <td>away_team</td>\n",
       "      <td>Chicago Bulls</td>\n",
       "    </tr>\n",
       "  </tbody>\n",
       "</table>\n",
       "</div>"
      ],
      "text/plain": [
       "   game_id       date   variable                  team\n",
       "0        0 2015-10-27  away_team       Detroit Pistons\n",
       "1        1 2015-10-27  away_team   Cleveland Cavaliers\n",
       "2        2 2015-10-27  away_team  New Orleans Pelicans\n",
       "3        3 2015-10-28  away_team    Philadelphia 76ers\n",
       "4        4 2015-10-28  away_team         Chicago Bulls"
      ]
     },
     "execution_count": 4,
     "metadata": {},
     "output_type": "execute_result"
    }
   ],
   "source": [
    "tidy = pd.melt(games.reset_index(),\n",
    "               id_vars=['game_id', 'date'], value_vars=['away_team', 'home_team'],\n",
    "               value_name='team')\n",
    "tidy.head()"
   ]
  },
  {
   "cell_type": "markdown",
   "metadata": {},
   "source": [
    "<li>Similar to the pivot tables, melt() is used to transform data. Here, the melt() function takes three parameters. First is the dataframe, where the index is reset to \"game_id\". Second is the id_vars. ID variables are basically the things to be represented on the x-axis. ie. the columns that are to be kept intact and doesn't need to be transformed.   \n",
    "<li>value_vars are the columns that we need to unpivot. If nothing is specified within the value_vars, by default it takes all the columns. Here, the columns to unpivot are the \"away_team\" and \"home_team\".\n",
    "<li>value_name is used to set the name of the column. Here, the name of the column is set to \"team\".\n",
    "<li>tiny.head() returns first few rows of the dataframe \"tidy\"."
   ]
  },
  {
   "cell_type": "code",
   "execution_count": 72,
   "metadata": {},
   "outputs": [
    {
     "data": {
      "text/plain": [
       "0     NaN\n",
       "1     NaN\n",
       "2     NaN\n",
       "3     NaN\n",
       "4     NaN\n",
       "     ... \n",
       "71    1.0\n",
       "72    2.0\n",
       "73    2.0\n",
       "74    2.0\n",
       "75    0.0\n",
       "Name: date, Length: 76, dtype: float64"
      ]
     },
     "execution_count": 72,
     "metadata": {},
     "output_type": "execute_result"
    }
   ],
   "source": [
    "# For each team... get number of days between games\n",
    "tidy.groupby('team')['date'].diff().dt.days - 1"
   ]
  },
  {
   "cell_type": "markdown",
   "metadata": {},
   "source": [
    "<li>The groupby() function of the dataframe is used to group the series using mapper or by a series of columns.\n",
    "<li>The mapper can be a dictionary or a key function and it returns the result as a series.\n",
    "<li>This block of code will return a discrete difference of object \"date\" in number of days."
   ]
  },
  {
   "cell_type": "code",
   "execution_count": 6,
   "metadata": {},
   "outputs": [
    {
     "data": {
      "text/html": [
       "<div>\n",
       "<style>\n",
       "    .dataframe thead tr:only-child th {\n",
       "        text-align: right;\n",
       "    }\n",
       "\n",
       "    .dataframe thead th {\n",
       "        text-align: left;\n",
       "    }\n",
       "\n",
       "    .dataframe tbody tr th {\n",
       "        vertical-align: top;\n",
       "    }\n",
       "</style>\n",
       "<table border=\"1\" class=\"dataframe\">\n",
       "  <thead>\n",
       "    <tr style=\"text-align: right;\">\n",
       "      <th></th>\n",
       "      <th>game_id</th>\n",
       "      <th>date</th>\n",
       "      <th>variable</th>\n",
       "      <th>team</th>\n",
       "      <th>rest</th>\n",
       "    </tr>\n",
       "  </thead>\n",
       "  <tbody>\n",
       "    <tr>\n",
       "      <th>4</th>\n",
       "      <td>4</td>\n",
       "      <td>2015-10-28</td>\n",
       "      <td>away_team</td>\n",
       "      <td>Chicago Bulls</td>\n",
       "      <td>0.0</td>\n",
       "    </tr>\n",
       "    <tr>\n",
       "      <th>8</th>\n",
       "      <td>8</td>\n",
       "      <td>2015-10-28</td>\n",
       "      <td>away_team</td>\n",
       "      <td>Cleveland Cavaliers</td>\n",
       "      <td>0.0</td>\n",
       "    </tr>\n",
       "    <tr>\n",
       "      <th>14</th>\n",
       "      <td>14</td>\n",
       "      <td>2015-10-28</td>\n",
       "      <td>away_team</td>\n",
       "      <td>New Orleans Pelicans</td>\n",
       "      <td>0.0</td>\n",
       "    </tr>\n",
       "    <tr>\n",
       "      <th>17</th>\n",
       "      <td>17</td>\n",
       "      <td>2015-10-29</td>\n",
       "      <td>away_team</td>\n",
       "      <td>Memphis Grizzlies</td>\n",
       "      <td>0.0</td>\n",
       "    </tr>\n",
       "    <tr>\n",
       "      <th>18</th>\n",
       "      <td>18</td>\n",
       "      <td>2015-10-29</td>\n",
       "      <td>away_team</td>\n",
       "      <td>Dallas Mavericks</td>\n",
       "      <td>0.0</td>\n",
       "    </tr>\n",
       "  </tbody>\n",
       "</table>\n",
       "</div>"
      ],
      "text/plain": [
       "    game_id       date   variable                  team  rest\n",
       "4         4 2015-10-28  away_team         Chicago Bulls   0.0\n",
       "8         8 2015-10-28  away_team   Cleveland Cavaliers   0.0\n",
       "14       14 2015-10-28  away_team  New Orleans Pelicans   0.0\n",
       "17       17 2015-10-29  away_team     Memphis Grizzlies   0.0\n",
       "18       18 2015-10-29  away_team      Dallas Mavericks   0.0"
      ]
     },
     "execution_count": 6,
     "metadata": {},
     "output_type": "execute_result"
    }
   ],
   "source": [
    "tidy['rest'] = tidy.sort_values('date').groupby('team').date.diff().dt.days - 1\n",
    "tidy.dropna().head()"
   ]
  },
  {
   "cell_type": "markdown",
   "metadata": {},
   "source": [
    "<li>The sort_values() function is used to sort the data by the values along either axes.\n",
    "<li>This block of code adds a column \"rest\" to the dataframe, returns the first few rows that are sorted on the basis of the column \"date\" and are grouped by the column \"team\". Basically, this code calculates the days of rest between two matches."
   ]
  },
  {
   "cell_type": "code",
   "execution_count": 7,
   "metadata": {},
   "outputs": [
    {
     "data": {
      "text/html": [
       "<div>\n",
       "<style>\n",
       "    .dataframe thead tr:only-child th {\n",
       "        text-align: right;\n",
       "    }\n",
       "\n",
       "    .dataframe thead th {\n",
       "        text-align: left;\n",
       "    }\n",
       "\n",
       "    .dataframe tbody tr th {\n",
       "        vertical-align: top;\n",
       "    }\n",
       "</style>\n",
       "<table border=\"1\" class=\"dataframe\">\n",
       "  <thead>\n",
       "    <tr style=\"text-align: right;\">\n",
       "      <th></th>\n",
       "      <th></th>\n",
       "      <th>away_team</th>\n",
       "      <th>away_points</th>\n",
       "      <th>home_team</th>\n",
       "      <th>home_points</th>\n",
       "      <th>away_rest</th>\n",
       "      <th>home_rest</th>\n",
       "    </tr>\n",
       "    <tr>\n",
       "      <th>game_id</th>\n",
       "      <th>date</th>\n",
       "      <th></th>\n",
       "      <th></th>\n",
       "      <th></th>\n",
       "      <th></th>\n",
       "      <th></th>\n",
       "      <th></th>\n",
       "    </tr>\n",
       "  </thead>\n",
       "  <tbody>\n",
       "    <tr>\n",
       "      <th>17</th>\n",
       "      <th>2015-10-29</th>\n",
       "      <td>Memphis Grizzlies</td>\n",
       "      <td>112</td>\n",
       "      <td>Indiana Pacers</td>\n",
       "      <td>103</td>\n",
       "      <td>0.0</td>\n",
       "      <td>0.0</td>\n",
       "    </tr>\n",
       "    <tr>\n",
       "      <th>18</th>\n",
       "      <th>2015-10-29</th>\n",
       "      <td>Dallas Mavericks</td>\n",
       "      <td>88</td>\n",
       "      <td>Los Angeles Clippers</td>\n",
       "      <td>104</td>\n",
       "      <td>0.0</td>\n",
       "      <td>0.0</td>\n",
       "    </tr>\n",
       "    <tr>\n",
       "      <th>19</th>\n",
       "      <th>2015-10-29</th>\n",
       "      <td>Atlanta Hawks</td>\n",
       "      <td>112</td>\n",
       "      <td>New York Knicks</td>\n",
       "      <td>101</td>\n",
       "      <td>1.0</td>\n",
       "      <td>0.0</td>\n",
       "    </tr>\n",
       "    <tr>\n",
       "      <th>20</th>\n",
       "      <th>2015-10-30</th>\n",
       "      <td>Charlotte Hornets</td>\n",
       "      <td>94</td>\n",
       "      <td>Atlanta Hawks</td>\n",
       "      <td>97</td>\n",
       "      <td>1.0</td>\n",
       "      <td>0.0</td>\n",
       "    </tr>\n",
       "    <tr>\n",
       "      <th>21</th>\n",
       "      <th>2015-10-30</th>\n",
       "      <td>Toronto Raptors</td>\n",
       "      <td>113</td>\n",
       "      <td>Boston Celtics</td>\n",
       "      <td>103</td>\n",
       "      <td>1.0</td>\n",
       "      <td>1.0</td>\n",
       "    </tr>\n",
       "  </tbody>\n",
       "</table>\n",
       "</div>"
      ],
      "text/plain": [
       "                            away_team  away_points             home_team  \\\n",
       "game_id date                                                               \n",
       "17      2015-10-29  Memphis Grizzlies          112        Indiana Pacers   \n",
       "18      2015-10-29   Dallas Mavericks           88  Los Angeles Clippers   \n",
       "19      2015-10-29      Atlanta Hawks          112       New York Knicks   \n",
       "20      2015-10-30  Charlotte Hornets           94         Atlanta Hawks   \n",
       "21      2015-10-30    Toronto Raptors          113        Boston Celtics   \n",
       "\n",
       "                    home_points  away_rest  home_rest  \n",
       "game_id date                                           \n",
       "17      2015-10-29          103        0.0        0.0  \n",
       "18      2015-10-29          104        0.0        0.0  \n",
       "19      2015-10-29          101        1.0        0.0  \n",
       "20      2015-10-30           97        1.0        0.0  \n",
       "21      2015-10-30          103        1.0        1.0  "
      ]
     },
     "execution_count": 7,
     "metadata": {},
     "output_type": "execute_result"
    }
   ],
   "source": [
    "by_game = (pd.pivot_table(tidy, values='rest',\n",
    "                          index=['game_id', 'date'],\n",
    "                          columns='variable')\n",
    "             .rename(columns={'away_team': 'away_rest',\n",
    "                              'home_team': 'home_rest'}))\n",
    "df = pd.concat([games, by_game], axis=1)\n",
    "df.dropna().head()"
   ]
  },
  {
   "cell_type": "markdown",
   "metadata": {},
   "source": [
    "<li>Here, pd.pivot_table creates a spreadsheet-style pivot table similar to the dataframe \"tidy\".\n",
    "<li>The pivot_table() takes four parameters ie. the Dataframe-\"tidy\"; values- the columns to aggregate; index- The columns on the basis of which the data is to be ordered. and columns- they are optional. They provide an additional way to segment the actual values you care about. \n",
    "<li>The columns \"away_team\" is renamed to \"awauy_rest\" and \"home_team\" is remaned to \"home_rest\".\n",
    "<li>The Dataframe df is the concatenation of the pivot table \"by_game\" and \"games\" \n",
    "<li>axis=1 in the concat() function is the axis to concatenate along.\n",
    "<li>This block of code creates a pivot table \"by_game\" by carrying out all the above operations on the dataframe \"tidy\". "
   ]
  },
  {
   "cell_type": "code",
   "execution_count": 84,
   "metadata": {},
   "outputs": [
    {
     "name": "stderr",
     "output_type": "stream",
     "text": [
      "c:\\users\\viki4\\appdata\\local\\programs\\python\\python36\\lib\\site-packages\\seaborn\\axisgrid.py:703: UserWarning: Using the barplot function without specifying `order` is likely to produce an incorrect plot.\n",
      "  warnings.warn(warning)\n"
     ]
    },
    {
     "data": {
      "image/png": "[encoded data removed]",
      "text/plain": [
       "<matplotlib.figure.Figure at 0x240c0a14550>"
      ]
     },
     "metadata": {},
     "output_type": "display_data"
    }
   ],
   "source": [
    "sns.set(style='ticks', context='notebook')\n",
    "g = sns.FacetGrid(tidy, col='team', col_wrap=6, hue='team', size=2)\n",
    "g.map(sns.barplot, 'variable', 'rest');"
   ]
  },
  {
   "cell_type": "markdown",
   "metadata": {},
   "source": [
    "***The above graph is plotted using the seaborn library of Python.***\n",
    "***Seaborn is a Python library which is used for data visualization and is based on matplotlib.***\n",
    "*** It provides a high-level interface for drawing attractive statistical graphics.***"
   ]
  },
  {
   "cell_type": "markdown",
   "metadata": {},
   "source": [
    "<li>Seaborn has a set of predefined functions.\n",
    "<li>The set() function in seaborn is used to set the aesthetic parameters of the graphs easily.\n",
    "<li>Here, the set() function takes two parameters: Style-This affects things like the color of the axes, whether a grid is enabled by default, and other aesthetic elements. and Context is set to notebook.\n",
    "<li>FacetGrid basically is a subplot grid for plotting conditional relationships.\n",
    "<li>The FacetGrid is an object that links a Pandas DataFrame to a matplotlib figure with a particular structure.\n",
    "<li>Here, the facetgrid takes the following parameters- the dataframe \"tidy\"; col,hue -Variables that define subsets of the data, which will be drawn on separate facets in the grid and the size is used to specify the height of each facet.\n",
    "<li>The above block of code produces a barplot that represents the rest between the games among the teams, with the \"teams\" on the x-axis and \"rest\" on the y-axis.\n",
    "\n"
   ]
  },
  {
   "cell_type": "code",
   "execution_count": 13,
   "metadata": {},
   "outputs": [
    {
     "data": {
      "text/html": [
       "<div>\n",
       "<style>\n",
       "    .dataframe thead tr:only-child th {\n",
       "        text-align: right;\n",
       "    }\n",
       "\n",
       "    .dataframe thead th {\n",
       "        text-align: left;\n",
       "    }\n",
       "\n",
       "    .dataframe tbody tr th {\n",
       "        vertical-align: top;\n",
       "    }\n",
       "</style>\n",
       "<table border=\"1\" class=\"dataframe\">\n",
       "  <thead>\n",
       "    <tr style=\"text-align: right;\">\n",
       "      <th></th>\n",
       "      <th></th>\n",
       "      <th>away_team</th>\n",
       "      <th>away_points</th>\n",
       "      <th>home_team</th>\n",
       "      <th>home_points</th>\n",
       "      <th>away_rest</th>\n",
       "      <th>home_rest</th>\n",
       "      <th>home_win</th>\n",
       "      <th>rest_spread</th>\n",
       "    </tr>\n",
       "    <tr>\n",
       "      <th>game_id</th>\n",
       "      <th>date</th>\n",
       "      <th></th>\n",
       "      <th></th>\n",
       "      <th></th>\n",
       "      <th></th>\n",
       "      <th></th>\n",
       "      <th></th>\n",
       "      <th></th>\n",
       "      <th></th>\n",
       "    </tr>\n",
       "  </thead>\n",
       "  <tbody>\n",
       "    <tr>\n",
       "      <th>17</th>\n",
       "      <th>2015-10-29</th>\n",
       "      <td>Memphis Grizzlies</td>\n",
       "      <td>112</td>\n",
       "      <td>Indiana Pacers</td>\n",
       "      <td>103</td>\n",
       "      <td>0.0</td>\n",
       "      <td>0.0</td>\n",
       "      <td>False</td>\n",
       "      <td>0.0</td>\n",
       "    </tr>\n",
       "    <tr>\n",
       "      <th>18</th>\n",
       "      <th>2015-10-29</th>\n",
       "      <td>Dallas Mavericks</td>\n",
       "      <td>88</td>\n",
       "      <td>Los Angeles Clippers</td>\n",
       "      <td>104</td>\n",
       "      <td>0.0</td>\n",
       "      <td>0.0</td>\n",
       "      <td>True</td>\n",
       "      <td>0.0</td>\n",
       "    </tr>\n",
       "    <tr>\n",
       "      <th>19</th>\n",
       "      <th>2015-10-29</th>\n",
       "      <td>Atlanta Hawks</td>\n",
       "      <td>112</td>\n",
       "      <td>New York Knicks</td>\n",
       "      <td>101</td>\n",
       "      <td>1.0</td>\n",
       "      <td>0.0</td>\n",
       "      <td>False</td>\n",
       "      <td>-1.0</td>\n",
       "    </tr>\n",
       "    <tr>\n",
       "      <th>20</th>\n",
       "      <th>2015-10-30</th>\n",
       "      <td>Charlotte Hornets</td>\n",
       "      <td>94</td>\n",
       "      <td>Atlanta Hawks</td>\n",
       "      <td>97</td>\n",
       "      <td>1.0</td>\n",
       "      <td>0.0</td>\n",
       "      <td>True</td>\n",
       "      <td>-1.0</td>\n",
       "    </tr>\n",
       "    <tr>\n",
       "      <th>21</th>\n",
       "      <th>2015-10-30</th>\n",
       "      <td>Toronto Raptors</td>\n",
       "      <td>113</td>\n",
       "      <td>Boston Celtics</td>\n",
       "      <td>103</td>\n",
       "      <td>1.0</td>\n",
       "      <td>1.0</td>\n",
       "      <td>False</td>\n",
       "      <td>0.0</td>\n",
       "    </tr>\n",
       "  </tbody>\n",
       "</table>\n",
       "</div>"
      ],
      "text/plain": [
       "                            away_team  away_points             home_team  \\\n",
       "game_id date                                                               \n",
       "17      2015-10-29  Memphis Grizzlies          112        Indiana Pacers   \n",
       "18      2015-10-29   Dallas Mavericks           88  Los Angeles Clippers   \n",
       "19      2015-10-29      Atlanta Hawks          112       New York Knicks   \n",
       "20      2015-10-30  Charlotte Hornets           94         Atlanta Hawks   \n",
       "21      2015-10-30    Toronto Raptors          113        Boston Celtics   \n",
       "\n",
       "                    home_points  away_rest  home_rest  home_win  rest_spread  \n",
       "game_id date                                                                  \n",
       "17      2015-10-29          103        0.0        0.0     False          0.0  \n",
       "18      2015-10-29          104        0.0        0.0      True          0.0  \n",
       "19      2015-10-29          101        1.0        0.0     False         -1.0  \n",
       "20      2015-10-30           97        1.0        0.0      True         -1.0  \n",
       "21      2015-10-30          103        1.0        1.0     False          0.0  "
      ]
     },
     "execution_count": 13,
     "metadata": {},
     "output_type": "execute_result"
    }
   ],
   "source": [
    "df['home_win'] = df['home_points'] > df['away_points']\n",
    "df['rest_spread'] = df['home_rest'] - df['away_rest']\n",
    "df.dropna().head()"
   ]
  },
  {
   "cell_type": "markdown",
   "metadata": {},
   "source": [
    "<li>In this block of code, the column \"home_win\" is added to the dataframe which is a boolean value obtained by comparing the greater value among the columns \"home_points\" and \"away_points\".\n",
    "<li>Also, a new column \"rest_spread\" is added to the dataframe which is the difference of the columns \"home_rest\" and \"away_rest\".\n",
    "<li>The block returns the first few columns of the dataframe with any missing values."
   ]
  },
  {
   "cell_type": "code",
   "execution_count": 81,
   "metadata": {},
   "outputs": [
    {
     "data": {
      "image/png": "[encoded data removed]",
      "text/plain": [
       "<matplotlib.figure.Figure at 0x240c3df97f0>"
      ]
     },
     "metadata": {},
     "output_type": "display_data"
    }
   ],
   "source": [
    "delta = (by_game.home_rest - by_game.away_rest).dropna().astype(int)\n",
    "ax = (delta.value_counts()\n",
    "    .reindex(np.arange(delta.min(), delta.max() + 1), fill_value=0)\n",
    "    .sort_index()\n",
    "    .plot(kind='bar', color='k', width=.9, rot=0, figsize=(12, 6))\n",
    ")\n",
    "sns.despine()\n",
    "ax.set(xlabel='Difference in Rest (Home - Away)', ylabel='Games');"
   ]
  },
  {
   "cell_type": "markdown",
   "metadata": {},
   "source": [
    "<li>In this block of code, the difference in the columns \"home_rest\" and \"home_rest\" of gthe pivot table by_game is calculated. The difference yields a float result and it is type-casted into integer datatype in order to maintain the consistency during plotting.\n",
    "<li>The function delta.value_counts() returns an object containing counts of unique values in delta. The resulting object will be in descending order so that the first element is the most frequently-occurring element. It excludes NA values by default.\n",
    "<li>The reindex() function is used to change the row and column labels of the dataframe. Here the dataframe is reindexed to the range of minimum and maximum value limits of delta and the missing values in the dataframe is replaced by 0 using fill_value attribute.\n",
    "<li>Now the dataframe is sorted by index and the bar graph is plotted.\n",
    "<li>plot() function has the parameters to specify the aesthetic properties of the graph.\n",
    "<li>sns.despine() removes the top and right spines from the plot.\n",
    "<li>The labels of the x-axis and the y-axis are set.\n",
    "<li>The above block of code displays a graph that represents the difference in days between two games."
   ]
  },
  {
   "cell_type": "code",
   "execution_count": 15,
   "metadata": {},
   "outputs": [
    {
     "data": {
      "image/png": "[encoded data removed]",
      "text/plain": [
       "<matplotlib.figure.Figure at 0x240c3a0db70>"
      ]
     },
     "metadata": {},
     "output_type": "display_data"
    }
   ],
   "source": [
    "fig, ax = plt.subplots(figsize=(12, 6))\n",
    "sns.barplot(x='rest_spread', y='home_win', data=df.query('-3 <= rest_spread <= 3'),\n",
    "            color='#4c72b0', ax=ax)\n",
    "sns.despine()"
   ]
  },
  {
   "cell_type": "markdown",
   "metadata": {},
   "source": [
    "<li>creates a figure with size 1200 by 600 pixels\n",
    "<li>The X-axis represents 'rest_spread' and Y-axis represents 'home_win'.If rest_spread is between -3 and 3 then the graph is as shown above.\n",
    "<li>The sns.despine() function removes the top and right spines from plot.\n"
   ]
  },
  {
   "cell_type": "code",
   "execution_count": 16,
   "metadata": {},
   "outputs": [
    {
     "data": {
      "text/plain": [
       "date        variable \n",
       "2015-10-28  away_team    0.000000\n",
       "            home_team    0.000000\n",
       "2015-10-29  away_team    0.333333\n",
       "            home_team    0.000000\n",
       "2015-10-30  away_team    1.083333\n",
       "Name: rest, dtype: float64"
      ]
     },
     "execution_count": 16,
     "metadata": {},
     "output_type": "execute_result"
    }
   ],
   "source": [
    "rest = (tidy.groupby(['date', 'variable'])\n",
    "            .rest.mean()\n",
    "            .dropna())\n",
    "rest.head()"
   ]
  },
  {
   "cell_type": "markdown",
   "metadata": {},
   "source": [
    "<li> This block of code groups the 'date' and 'variable' columns and then calculates the mean of rest column and then drops rows with NA values\n",
    "<li>'rest.head()' displays top 5 rows "
   ]
  },
  {
   "cell_type": "code",
   "execution_count": 17,
   "metadata": {},
   "outputs": [
    {
     "data": {
      "text/html": [
       "<div>\n",
       "<style>\n",
       "    .dataframe thead tr:only-child th {\n",
       "        text-align: right;\n",
       "    }\n",
       "\n",
       "    .dataframe thead th {\n",
       "        text-align: left;\n",
       "    }\n",
       "\n",
       "    .dataframe tbody tr th {\n",
       "        vertical-align: top;\n",
       "    }\n",
       "</style>\n",
       "<table border=\"1\" class=\"dataframe\">\n",
       "  <thead>\n",
       "    <tr style=\"text-align: right;\">\n",
       "      <th>variable</th>\n",
       "      <th>away_team</th>\n",
       "      <th>home_team</th>\n",
       "    </tr>\n",
       "    <tr>\n",
       "      <th>date</th>\n",
       "      <th></th>\n",
       "      <th></th>\n",
       "    </tr>\n",
       "  </thead>\n",
       "  <tbody>\n",
       "    <tr>\n",
       "      <th>2015-10-28</th>\n",
       "      <td>0.000000</td>\n",
       "      <td>0.000000</td>\n",
       "    </tr>\n",
       "    <tr>\n",
       "      <th>2015-10-29</th>\n",
       "      <td>0.333333</td>\n",
       "      <td>0.000000</td>\n",
       "    </tr>\n",
       "    <tr>\n",
       "      <th>2015-10-30</th>\n",
       "      <td>1.083333</td>\n",
       "      <td>0.916667</td>\n",
       "    </tr>\n",
       "    <tr>\n",
       "      <th>2015-10-31</th>\n",
       "      <td>0.166667</td>\n",
       "      <td>0.833333</td>\n",
       "    </tr>\n",
       "  </tbody>\n",
       "</table>\n",
       "</div>"
      ],
      "text/plain": [
       "variable    away_team  home_team\n",
       "date                            \n",
       "2015-10-28   0.000000   0.000000\n",
       "2015-10-29   0.333333   0.000000\n",
       "2015-10-30   1.083333   0.916667\n",
       "2015-10-31   0.166667   0.833333"
      ]
     },
     "execution_count": 17,
     "metadata": {},
     "output_type": "execute_result"
    }
   ],
   "source": [
    "rest.unstack().head()"
   ]
  },
  {
   "cell_type": "markdown",
   "metadata": {},
   "source": [
    "<li>This block of code arranges the above output in more readable manner.\n",
    "<li>The author has used unstack(level=1) for arranging the output for columns 'away_team' and 'home_team'"
   ]
  },
  {
   "cell_type": "code",
   "execution_count": 18,
   "metadata": {},
   "outputs": [
    {
     "data": {
      "text/plain": [
       "date        variable \n",
       "2015-10-28  away_team    0.000000\n",
       "            home_team    0.000000\n",
       "2015-10-29  away_team    0.333333\n",
       "            home_team    0.000000\n",
       "2015-10-30  away_team    1.083333\n",
       "            home_team    0.916667\n",
       "2015-10-31  away_team    0.166667\n",
       "            home_team    0.833333\n",
       "dtype: float64"
      ]
     },
     "execution_count": 18,
     "metadata": {},
     "output_type": "execute_result"
    }
   ],
   "source": [
    "rest.unstack().stack()"
   ]
  },
  {
   "cell_type": "markdown",
   "metadata": {},
   "source": [
    "<li>The above block of code returns the values grouped by date in stacked form and their corresponding variables are shown."
   ]
  },
  {
   "cell_type": "code",
   "execution_count": 19,
   "metadata": {},
   "outputs": [
    {
     "data": {
      "image/png": "[encoded data removed]",
      "text/plain": [
       "<matplotlib.figure.Figure at 0x240c210bba8>"
      ]
     },
     "metadata": {},
     "output_type": "display_data"
    }
   ],
   "source": [
    "with sns.color_palette() as pal:\n",
    "    b, g = pal.as_hex()[:2]\n",
    "\n",
    "ax=(rest.unstack()\n",
    "        .query('away_team < 7')\n",
    "        .rolling(7)\n",
    "        .mean()\n",
    "        .plot(figsize=(12, 6), linewidth=3, legend=False))\n",
    "ax.set(ylabel='Rest (7 day MA)')\n",
    "ax.annotate(\"Home\", (rest.index[-1][0], 1.02), color=g, size=14)\n",
    "ax.annotate(\"Away\", (rest.index[-1][0], 0.82), color=b, size=14)\n",
    "sns.despine()"
   ]
  },
  {
   "cell_type": "markdown",
   "metadata": {},
   "source": [
    "<li>The color_palette() function accepts the name of any seaborn palette or matplotlib colormap. It can also take a list of colors specified in any valid matplotlib format (RGB tuples, hex color codes, or HTML color names). \n",
    "The return value is always a list of RGB tuples.\n",
    "\n",
    "<li>Also, calling color_palette() with no arguments will return the current default color cycle.\n",
    "\n",
    "<li>When we use text(),it will just randomly insert values anywhere in the graph.\n",
    "To avoid this,author has made use of 'annotate()' method to make annotations easier.In an annotation, there are two points to consider: the location being annotated represented by the argument xy and the location of the text xytext. Both of these arguments are (x,y) tuples.\n",
    "\n",
    "<li>The annotate() function in the pyplot module is used to draw an arrow connecting two points on the plot."
   ]
  },
  {
   "cell_type": "markdown",
   "metadata": {},
   "source": [
    "## References :\n",
    "<li>https://www.tutorialspoint.com/python_pandas/index.htm\n",
    "<li>https://seaborn.pydata.org/index.html\n",
    "<li>https://matplotlib.org/index.html"
   ]
  }
 ],
 "metadata": {
  "kernelspec": {
   "display_name": "Python 3",
   "language": "python",
   "name": "python3"
  },
  "language_info": {
   "codemirror_mode": {
    "name": "ipython",
    "version": 3
   },
   "file_extension": ".py",
   "mimetype": "text/x-python",
   "name": "python",
   "nbconvert_exporter": "python",
   "pygments_lexer": "ipython3",
   "version": "3.6.4"
  }
 },
 "nbformat": 4,
 "nbformat_minor": 2
}
