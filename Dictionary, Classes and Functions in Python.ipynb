{
 "cells": [
  {
   "cell_type": "markdown",
   "metadata": {},
   "source": [
    "# Dictionaries in Python"
   ]
  },
  {
   "cell_type": "code",
   "execution_count": 2,
   "metadata": {},
   "outputs": [
    {
     "name": "stdout",
     "output_type": "stream",
     "text": [
      "Model Name : D750\n",
      "Manufacturer : Nikon\n",
      "Price : 1500\n"
     ]
    }
   ],
   "source": [
    "#Example 1: An example that demonstrates the access of keys and values in a dictionary\n",
    "\n",
    "dict={'Model' :'D750', 'Brand':'Nikon', 'Price':'1500' }\n",
    "print('Model Name :',dict['Model']+'\\n'+'Manufacturer :',dict['Brand']+'\\n'+'Price :',dict['Price'])\n",
    "\n",
    "#https://www.tutorialspoint.com/python/python_dictionary.htm"
   ]
  },
  {
   "cell_type": "code",
   "execution_count": 3,
   "metadata": {},
   "outputs": [
    {
     "name": "stdout",
     "output_type": "stream",
     "text": [
      "Total of all three models :  4200\n"
     ]
    }
   ],
   "source": [
    "#Example 2 : An example that calculates the total amount from the dictionary\n",
    "\n",
    "def total(x,y,z):\n",
    "    total=x+y+z\n",
    "    return total\n",
    "\n",
    "model1={'Model' :'D750', 'Brand':'Nikon', 'Price':'1500' }\n",
    "model2={'Model':'D4', 'Brand':'Nikon' ,'Price':'1800'}\n",
    "model3={'Model' :'70D', 'Brand':'Canon', 'Price':'900'}\n",
    "x=int(model1['Price'])\n",
    "y=int(model2['Price'])\n",
    "z=int(model3['Price'])\n",
    "print('Total of all three models : ', total(x,y,z))\n",
    "\n",
    "#https://www.tutorialspoint.com/python/python_dictionary.htm"
   ]
  },
  {
   "cell_type": "markdown",
   "metadata": {},
   "source": [
    "## Explanation : \n",
    "In the above example, the goal is to calculate the total price of the models from the dictionaries.\n",
    "To achieve this, first, we define a function \"total\" to calculate the price.\n",
    "Now, we define three dictionaries with key-value pairs of the camera models, their brand and the price. To calculate the total price, we store the value(price) in three variables and call the function \"total\" and the Output is as shown. "
   ]
  },
  {
   "cell_type": "code",
   "execution_count": 4,
   "metadata": {},
   "outputs": [
    {
     "name": "stdout",
     "output_type": "stream",
     "text": [
      "Original Dictionary 1 : {'Name': 'Alex', 'City': 'Newark', 'State': 'New Jersey'}\n",
      "Original Dictionary 2 : {'Name': 'Jon', 'City': 'Kearny', 'State': 'New Jersey'}\n",
      "Original Dictionary 3 : {'Name': 'Chris', 'City': 'Harrison', 'State': 'New Jersey'}\n",
      "Updated Dictionary 2 : {'Name': 'Jon', 'City': 'Journal Square', 'State': 'New Jersey'}\n"
     ]
    }
   ],
   "source": [
    "#Example 3 : An example that demonstrates updations in a dictionary \n",
    "\n",
    "dictionary1={'Name':'Alex', 'City':'Newark','State' :'New Jersey'}\n",
    "dictionary2={'Name':'Jon', 'City':'Kearny','State' :'New Jersey'}\n",
    "dictionary3={'Name':'Chris', 'City':'Harrison','State' :'New Jersey'}\n",
    "print('Original Dictionary 1 :',dictionary1)\n",
    "print('Original Dictionary 2 :',dictionary2)\n",
    "print('Original Dictionary 3 :',dictionary3)\n",
    "\n",
    "#Updating Dictionary 2\n",
    "dictionary2['City']='Journal Square'\n",
    "print('Updated Dictionary 2 :',dictionary2)\n",
    "\n",
    "#https://www.tutorialspoint.com/python/python_dictionary.htm"
   ]
  },
  {
   "cell_type": "markdown",
   "metadata": {},
   "source": [
    "## Explanation :\n",
    "The goal of the above example is to demonstrate updations within a dictionary.\n",
    "To achieve this goal, we define three dictionaries with key-value pairs and print the original dictionaries.\n",
    "Now, we UPDATE a key in DICTIONARY2 and print the dictionary. The Output is as shown."
   ]
  },
  {
   "cell_type": "code",
   "execution_count": 5,
   "metadata": {},
   "outputs": [
    {
     "name": "stdout",
     "output_type": "stream",
     "text": [
      "Original Dictionary ->\n",
      "Item : Pen\n",
      "Quantity : 10\n",
      "Price : 10\n",
      "\n"
     ]
    },
    {
     "ename": "KeyError",
     "evalue": "'Quantity'",
     "output_type": "error",
     "traceback": [
      "\u001b[1;31m---------------------------------------------------------------------------\u001b[0m",
      "\u001b[1;31mKeyError\u001b[0m                                  Traceback (most recent call last)",
      "\u001b[1;32m<ipython-input-5-ad969a3b4542>\u001b[0m in \u001b[0;36m<module>\u001b[1;34m()\u001b[0m\n\u001b[0;32m      5\u001b[0m \u001b[1;33m\u001b[0m\u001b[0m\n\u001b[0;32m      6\u001b[0m \u001b[1;32mdel\u001b[0m \u001b[0mdict_A\u001b[0m\u001b[1;33m[\u001b[0m\u001b[1;34m'Quantity'\u001b[0m\u001b[1;33m]\u001b[0m\u001b[1;33m\u001b[0m\u001b[0m\n\u001b[1;32m----> 7\u001b[1;33m \u001b[0mprint\u001b[0m\u001b[1;33m(\u001b[0m\u001b[1;34m'Original Dictionary ->'\u001b[0m\u001b[1;33m+\u001b[0m\u001b[1;34m'\\n'\u001b[0m\u001b[1;33m+\u001b[0m\u001b[1;34m'Item :'\u001b[0m\u001b[1;33m,\u001b[0m \u001b[0mdict_A\u001b[0m\u001b[1;33m[\u001b[0m\u001b[1;34m'Item'\u001b[0m\u001b[1;33m]\u001b[0m\u001b[1;33m+\u001b[0m\u001b[1;34m'\\n'\u001b[0m\u001b[1;33m+\u001b[0m\u001b[1;34m'Quantity :'\u001b[0m\u001b[1;33m,\u001b[0m\u001b[0mdict_A\u001b[0m\u001b[1;33m[\u001b[0m\u001b[1;34m'Quantity'\u001b[0m\u001b[1;33m]\u001b[0m\u001b[1;33m+\u001b[0m\u001b[1;34m'\\n'\u001b[0m\u001b[1;33m+\u001b[0m\u001b[1;34m'Price :'\u001b[0m\u001b[1;33m,\u001b[0m\u001b[0mdict_A\u001b[0m\u001b[1;33m[\u001b[0m\u001b[1;34m'Price'\u001b[0m\u001b[1;33m]\u001b[0m\u001b[1;33m+\u001b[0m\u001b[1;34m'\\n'\u001b[0m\u001b[1;33m)\u001b[0m\u001b[1;33m\u001b[0m\u001b[0m\n\u001b[0m\u001b[0;32m      8\u001b[0m \u001b[1;31m#print('Updated Dictionary ->'+'\\n'+'Item :', dict_A['Item']+'\\n'+'Quantity :'+'Price :',dict_A['Price'])\u001b[0m\u001b[1;33m\u001b[0m\u001b[1;33m\u001b[0m\u001b[0m\n\u001b[0;32m      9\u001b[0m \u001b[1;33m\u001b[0m\u001b[0m\n",
      "\u001b[1;31mKeyError\u001b[0m: 'Quantity'"
     ]
    }
   ],
   "source": [
    "#Example 4 : An example that demonstrates Deletions in a dictionary\n",
    "\n",
    "dict_A={'Item':'Pen', 'Quantity':'10', 'Price':'10'}\n",
    "print('Original Dictionary ->'+'\\n'+'Item :', dict_A['Item']+'\\n'+'Quantity :',dict_A['Quantity']+'\\n'+'Price :',dict_A['Price']+'\\n')\n",
    "\n",
    "del dict_A['Quantity']\n",
    "print('Original Dictionary ->'+'\\n'+'Item :', dict_A['Item']+'\\n'+'Quantity :',dict_A['Quantity']+'\\n'+'Price :',dict_A['Price']+'\\n')\n",
    "#print('Updated Dictionary ->'+'\\n'+'Item :', dict_A['Item']+'\\n'+'Quantity :'+'Price :',dict_A['Price'])\n",
    "\n",
    "#https://www.tutorialspoint.com/python/python_dictionary.htm"
   ]
  },
  {
   "cell_type": "markdown",
   "metadata": {},
   "source": [
    "## Explanation :\n",
    "The goal of the above example is to demonstrate Deletions within a dictionary. To achieve this goal, firstly, we define a dictionary dict_A with key-value pairs and print the dictionary.\n",
    "Now, we perform delete operation on the key \"Quantity\" and again print the dictionary. The dictionary doesn't find a key named \"Quantity\" and it displays KeyError: 'Quantity'.\n",
    "The Output is as shown."
   ]
  },
  {
   "cell_type": "markdown",
   "metadata": {},
   "source": [
    "# Classes in Python\n",
    "\n",
    "A class helps the programmer to structure the program in such a way that the data and functionality can be combined together so that it can be reused a number of times in a program. When a class is created, an object of the class is created, which allows new instances of that type to be made. Each instance can contain an attribute attached to it in order to maintain the data."
   ]
  },
  {
   "cell_type": "markdown",
   "metadata": {},
   "source": [
    "### Examples of Classes in Python"
   ]
  },
  {
   "cell_type": "code",
   "execution_count": 4,
   "metadata": {},
   "outputs": [
    {
     "name": "stdout",
     "output_type": "stream",
     "text": [
      "First Name:John;Last Name:Carter;Email Id: john.carter@gmail.com\n",
      "First Name:Alice;Last Name:Watson;Email Id: alice.watson@gmail.com\n"
     ]
    }
   ],
   "source": [
    "#Example 1: An example that demonstrates a class that prints the Student details.\n",
    " \n",
    "class Student:\n",
    "    pass\n",
    "\n",
    "stud1=Student()\n",
    "stud2=Student()\n",
    "\n",
    "#First Instance of Student class\n",
    "stud1.fname='John'\n",
    "stud1.lname='Carter'\n",
    "stud1.email='john'+'.'+'carter'+'@gmail.com'\n",
    "\n",
    "#Second Instance of Student class\n",
    "stud2.fname='Alice'\n",
    "stud2.lname='Watson'\n",
    "stud2.email='alice'+'.'+'watson'+'@gmail.com'\n",
    "\n",
    "print('First Name:'+ stud1.fname +';'+ 'Last Name:'+ stud1.lname +';' + 'Email Id: '+ stud1.email)\n",
    "print('First Name:'+ stud2.fname +';'+ 'Last Name:'+ stud2.lname +';' + 'Email Id: '+ stud2.email)\n",
    "\n",
    "#https://docs.python.org/3/tutorial/classes.html"
   ]
  },
  {
   "cell_type": "markdown",
   "metadata": {},
   "source": [
    "## Explanation :\n",
    "The goal of the above example is to demonstrate a class that displays the student details.\n",
    "To achieve this goal, Firstly, we define a class Student.\n",
    "In this class, we create two instances of Student(), viz. stud1 and stud2 and assign the parameters fname, lname and email to each one of them and print the First name, Last Name and Email.\n",
    "The Output is as shown.\n"
   ]
  },
  {
   "cell_type": "code",
   "execution_count": null,
   "metadata": {
    "collapsed": true
   },
   "outputs": [],
   "source": [
    "#Example 2 : An example that demonstrates a class to print Email Id of students.\n",
    "\n",
    "class Student:\n",
    "    def __init__ (self,fname,lname):   \n",
    "        self.fname=fname     \n",
    "        self.lname=lname     \n",
    "        self.email=fname+'.'+lname+'@yahoo.com'\n",
    "\n",
    "stud_1=Student('andrew','williams')\n",
    "stud_2=Student('jon','snow')\n",
    "\n",
    "print(\"\"\"Email ID :\"\"\",\n",
    "      stud_1.email)\n",
    "print(\"\"\"Email ID :\"\"\",\n",
    "      stud_2.email)\n",
    "\n",
    "#https://docs.python.org/3/tutorial/classes.html"
   ]
  },
  {
   "cell_type": "markdown",
   "metadata": {},
   "source": [
    "## Explanation :\n",
    " The goal of the above example is to demonstrate a class that prints the Email ID of Students.\n",
    " To achieve this, Firstly, we define a class Student in whic, we define a method __init__ that takes three parameters, viz.    self, fname and lname.(CONSTRUCTER)\n",
    " Here, \"self\" is the default instance of the class Student, which means, when we create methods within a class, the receive the instance as the first argument automatically.\n",
    " Now, we set the instance variables - self.fname = fname.... and so on.\n",
    " Here, self.fname = fname works the same as stud1.fname = 'John' from Example 1.\n",
    " Now we just have to pass the fname and lname within the instances stud_1 and stud_2 and it will print the Email Id of te students.\n",
    " The output is as shown.\n",
    " "
   ]
  },
  {
   "cell_type": "code",
   "execution_count": 24,
   "metadata": {},
   "outputs": [
    {
     "name": "stdout",
     "output_type": "stream",
     "text": [
      "Enter marks of Data Science :87\n",
      "Enter marks of Big Data :89\n",
      "Enter marks of IT Strategy :95\n",
      "Percentage of marks obtained : 90.33333333333333\n"
     ]
    }
   ],
   "source": [
    "#Example 3 : An example that demonstrates a class that calculates the percentage of the students based on marks entered.\n",
    "\n",
    "class Student:\n",
    "    \n",
    "    def Percentage(x,y,z):\n",
    "        total=x+y+z\n",
    "        perc=(total/300)*100\n",
    "        return perc\n",
    "\n",
    "marks1= int(input('Enter marks of Data Science :' ))\n",
    "marks2=int(input('Enter marks of Big Data :'))\n",
    "marks3=int(input('Enter marks of IT Strategy :' ))\n",
    "\n",
    "print('Percentage of marks obtained :',Student.Percentage(marks1,marks2,marks3))\n",
    "\n",
    "\n",
    "\n",
    "#https://www.tutorialspoint.com/python/python_if_else.htm"
   ]
  },
  {
   "cell_type": "markdown",
   "metadata": {},
   "source": [
    "## Explanation :\n",
    "The goal of the above example is to demonstrate a class that calculates the percentage of marks obtained.\n",
    "To achieve this goal, firstly, we define a class student, in which, we define a function that carries out the calculation of percentage and returns the percentage.\n",
    "Now, we take the marks of the subjects as the input from the user which are then stored in the respective variables and the function \"Percentage()\" is then called which calculates the percentage based on the marks entered by the user.\n",
    "The output is as shown.\n"
   ]
  },
  {
   "cell_type": "markdown",
   "metadata": {},
   "source": [
    "# Functions in Python\n",
    "\n",
    "Functions are the blocks of organized and reusable code that can be used to perform a particular task.\n",
    "The functions can be classified into two types- Built-in functions and User-defined Functions."
   ]
  },
  {
   "cell_type": "markdown",
   "metadata": {},
   "source": [
    "### Examples of User-Defined Functions"
   ]
  },
  {
   "cell_type": "code",
   "execution_count": 3,
   "metadata": {},
   "outputs": [
    {
     "name": "stdout",
     "output_type": "stream",
     "text": [
      "Enter first number :38\n",
      "Enter second number :2\n",
      "Addition of the two numbers is : 40\n",
      "Subtraction of the two numbers is : 36\n",
      "Multiplication of the two numbers is : 76\n",
      "Division of the two numbers is : 19.0\n"
     ]
    }
   ],
   "source": [
    "#Example 1 : An example demonstrateing the functions that carry out the addition, subtraction, multiplication and division of two numbers.\n",
    "\n",
    "#Addition\n",
    "def Add(x,y):\n",
    "    result = x + y\n",
    "    return result\n",
    "\n",
    "#Subtraction\n",
    "def Subtract(x,y):\n",
    "    result = x - y\n",
    "    return result\n",
    "\n",
    "#Multiplication\n",
    "def Multiply(x,y):\n",
    "    result = x * y\n",
    "    return result\n",
    "\n",
    "#Division\n",
    "def Divide(x,y):\n",
    "    result = x / y\n",
    "    return result\n",
    "\n",
    "#Taking inputs from the user..\n",
    "num1=int(input('Enter first number :'))\n",
    "num2=int(input('Enter second number :'))\n",
    "\n",
    "print('Addition of the two numbers is :',Add(num1,num2))\n",
    "print('Subtraction of the two numbers is :',Subtract(num1,num2))\n",
    "print('Multiplication of the two numbers is :',Multiply(num1,num2))\n",
    "print('Division of the two numbers is :',Divide(num1,num2))\n",
    "\n",
    "\n",
    "#https://docs.python.org/3/tutorial/classes.html"
   ]
  },
  {
   "cell_type": "markdown",
   "metadata": {},
   "source": [
    "## Explanation :\n",
    "The goal of the above example is to demonstrate functions that carry out addition, subtraction, multiplication and division of two numbers. To achieve this goal, firstly, we define four functions namely Add,Subtract, Multiply and Divide to carry out the respective operations.\n",
    "Now, We take two numbers as an input feom the user and store them in two variables and apply the functions on them.\n",
    "The output is as shown."
   ]
  },
  {
   "cell_type": "code",
   "execution_count": 45,
   "metadata": {},
   "outputs": [
    {
     "name": "stdout",
     "output_type": "stream",
     "text": [
      "Enter the number 89\n",
      "89 is an odd number\n"
     ]
    }
   ],
   "source": [
    "#Example 2 : An example that demonstrates a function that checks if the entered numbers are even or odd\n",
    "\n",
    "def Even_Odd(x):\n",
    "    if(x % 2 == 0):\n",
    "        print(x , 'is an even number')\n",
    "    else:\n",
    "        print(x , 'is an odd number')\n",
    "\n",
    "x=int(input('Enter the number '))\n",
    "Even_Odd(x)\n",
    "\n",
    "#https://www.tutorialspoint.com/python/python_if_else.htm"
   ]
  },
  {
   "cell_type": "markdown",
   "metadata": {},
   "source": [
    "## Explanation :\n",
    "The goal of the above example is to demonstrate a Function that checks if the number is even or odd. To achieve this goal, firstly, we define a function Even_Odd() wherein we write a condition to check if the number is even or odd. \n",
    "Now, we take a number as an inpujt from the user and store it in the variable \"x\" and apply the function Even_Odd().\n",
    "The Output is as shown."
   ]
  },
  {
   "cell_type": "code",
   "execution_count": 11,
   "metadata": {},
   "outputs": [
    {
     "name": "stdout",
     "output_type": "stream",
     "text": [
      "Enter Principal : 1000\n",
      "Enter no. of years : 10\n",
      "Enter Rate of Interest : 5\n",
      "The Simple Interest is :  500.0\n"
     ]
    }
   ],
   "source": [
    "#Example 3 : An example that demonstrates a function to calculate Simple Interest \n",
    "\n",
    "def SimpleInterest(p,n,r):\n",
    "    si=(p*n*r)/100\n",
    "    return si\n",
    "\n",
    "Principal=int(input('Enter Principal : '))\n",
    "Years=int(input('Enter no. of years : '))\n",
    "Rate=int(input('Enter Rate of Interest : '))\n",
    "\n",
    "print('The Simple Interest is : ',SimpleInterest(Principal,Years,Rate))"
   ]
  },
  {
   "cell_type": "markdown",
   "metadata": {},
   "source": [
    "## Explanation : \n",
    "The goal of the above example is to demonstrate a function that calculates the Simple Interest. To achieve this goal, firstly, we define a function, SimpleInterest() which carries out the calculation and returns the result. \n",
    "Now, we take Principal, Years and Rate of Interest from the user as an input and apply the function.\n",
    "The Output is as shown."
   ]
  },
  {
   "cell_type": "markdown",
   "metadata": {},
   "source": [
    "### Examples of Built-In Functions"
   ]
  },
  {
   "cell_type": "code",
   "execution_count": 1,
   "metadata": {},
   "outputs": [
    {
     "name": "stdout",
     "output_type": "stream",
     "text": [
      "The maximum value in the list is :  10\n",
      "The minimum value in the list is :  -10\n"
     ]
    }
   ],
   "source": [
    "#Example 4: An example that demonstrates built-in functions in Python\n",
    "\n",
    "# Min and Max functions\n",
    "list=[-10,-8,-2,2,4,6,8,10]\n",
    "\n",
    "def Max():\n",
    "    print('The maximum value in the list is : ',max(list))\n",
    "    \n",
    "def Min():\n",
    "    print('The minimum value in the list is : ',min(list))\n",
    "    \n",
    "Max()\n",
    "Min()    \n",
    "\n",
    "#https://docs.python.org/3/library/functions.html"
   ]
  },
  {
   "cell_type": "code",
   "execution_count": 4,
   "metadata": {},
   "outputs": [
    {
     "name": "stdout",
     "output_type": "stream",
     "text": [
      "Enter your name : John\n",
      "John\n"
     ]
    }
   ],
   "source": [
    "# input() function - Used to take the input from the user\n",
    "Name=(input('Enter your name : '))\n",
    "print(Name)\n",
    "\n",
    "#https://docs.python.org/3/library/functions.html"
   ]
  },
  {
   "cell_type": "code",
   "execution_count": 5,
   "metadata": {},
   "outputs": [
    {
     "name": "stdout",
     "output_type": "stream",
     "text": [
      "This is test Data.\n"
     ]
    }
   ],
   "source": [
    "# print() - used to print data \n",
    "print('This is test Data.')\n",
    "\n",
    "#https://docs.python.org/3/library/functions.html"
   ]
  }
 ],
 "metadata": {
  "kernelspec": {
   "display_name": "Python 3",
   "language": "python",
   "name": "python3"
  },
  "language_info": {
   "codemirror_mode": {
    "name": "ipython",
    "version": 3
   },
   "file_extension": ".py",
   "mimetype": "text/x-python",
   "name": "python",
   "nbconvert_exporter": "python",
   "pygments_lexer": "ipython3",
   "version": "3.6.4"
  }
 },
 "nbformat": 4,
 "nbformat_minor": 2
}
