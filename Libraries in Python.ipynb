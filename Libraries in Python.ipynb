{
 "cells": [
  {
   "cell_type": "markdown",
   "metadata": {},
   "source": [
    "# Numpy"
   ]
  },
  {
   "cell_type": "markdown",
   "metadata": {},
   "source": [
    "## What is Numpy ?\n",
    "***Numpy is basically a core library for scientific calculations in Python. It provides a high performance object of multi-dimensional array and various tools for working with these arrays, tools for working with C,C++. It is also used for computing Linear Algebra, Fourier Transform and random number capabilities. Numpy can also be used as an efficient multi-dimensional container for data.***"
   ]
  },
  {
   "cell_type": "markdown",
   "metadata": {},
   "source": [
    "### Examples of Numpy"
   ]
  },
  {
   "cell_type": "code",
   "execution_count": 14,
   "metadata": {},
   "outputs": [
    {
     "name": "stdout",
     "output_type": "stream",
     "text": [
      "[10 20 30]\n"
     ]
    }
   ],
   "source": [
    "# Example 1 : An example that prints a simple array\n",
    "\n",
    "import numpy as np \n",
    "array=np.array([10,20,30])\n",
    "print (array)\n"
   ]
  },
  {
   "cell_type": "code",
   "execution_count": 15,
   "metadata": {},
   "outputs": [
    {
     "name": "stdout",
     "output_type": "stream",
     "text": [
      "[[10 20 30]\n",
      " [40 50 60]]\n"
     ]
    }
   ],
   "source": [
    "# Example 2 : An example that prints a multi-dimensional array\n",
    "\n",
    "import numpy as np\n",
    "array=np.array([(10,20,30),(40,50,60)])\n",
    "print(array)"
   ]
  },
  {
   "cell_type": "markdown",
   "metadata": {},
   "source": [
    "## Explanation :\n",
    "***In the above two examples, we have demonstrated one-dimensional and multi-dimensional arrays. In order to do this, we have imported the numpy library and from that library, we have used the array function ie. np.array() to create the arrays.*** \n"
   ]
  },
  {
   "cell_type": "code",
   "execution_count": 16,
   "metadata": {},
   "outputs": [
    {
     "name": "stdout",
     "output_type": "stream",
     "text": [
      "[ 10.+0.j  20.+0.j  30.+0.j]\n"
     ]
    }
   ],
   "source": [
    "# Example 3 : An example that prints an array of complex numbers.\n",
    "\n",
    "import numpy as np\n",
    "comp=np.array([10,20,30], dtype=complex)\n",
    "print(comp)"
   ]
  },
  {
   "cell_type": "code",
   "execution_count": 22,
   "metadata": {},
   "outputs": [
    {
     "name": "stdout",
     "output_type": "stream",
     "text": [
      "[['Nikon' 'D5200' '600']]\n"
     ]
    }
   ],
   "source": [
    "# Example 4 : An example that demonstrates Data types of an array.\n",
    "\n",
    "import numpy as np\n",
    "Cam=np.dtype([('Model','S20'),('Brand','S20'),('Price','i1')])\n",
    "model=np.array([('Nikon','D5200',600)])\n",
    "print(model)"
   ]
  },
  {
   "cell_type": "markdown",
   "metadata": {},
   "source": [
    "## Explanation :\n",
    "***The goal of the above example is to demonstrate the data-types in an array. To achieve this goal, we first import the numpy library within the program, from which, we can use the builtin functions of the library. Now, we declare a structured data type called Cam with \"Model\" as a string, \"Brand\" as a string and \"Price\" as an integer and asign the datatype to the model.\n",
    "The output is as shown.***"
   ]
  },
  {
   "cell_type": "markdown",
   "metadata": {},
   "source": [
    "### Array attributes"
   ]
  },
  {
   "cell_type": "code",
   "execution_count": 25,
   "metadata": {},
   "outputs": [
    {
     "name": "stdout",
     "output_type": "stream",
     "text": [
      "[0 1 2 3 4 5 6 7 8 9]\n"
     ]
    }
   ],
   "source": [
    "# Example 5: An example that demonstrates array attributes\n",
    "\n",
    "import numpy as np\n",
    "array=np.arange(10)\n",
    "print(array)"
   ]
  },
  {
   "cell_type": "code",
   "execution_count": 32,
   "metadata": {},
   "outputs": [
    {
     "name": "stdout",
     "output_type": "stream",
     "text": [
      "The dimension of the array is : (2, 3)\n"
     ]
    }
   ],
   "source": [
    "# Example 6 : An example that demonstrates shape and re-shape attributes.\n",
    "\n",
    "import numpy as np\n",
    "array1=np.array([[10,20,30],[40,50,5]])\n",
    "print (\"The dimension of the array is :\",array1.shape)"
   ]
  },
  {
   "cell_type": "code",
   "execution_count": 38,
   "metadata": {},
   "outputs": [
    {
     "name": "stdout",
     "output_type": "stream",
     "text": [
      "Original array :\n",
      " [[10 20 30]\n",
      " [40 50  5]]\n",
      "New array :\n",
      " [[10 20]\n",
      " [30 40]\n",
      " [50  5]]\n"
     ]
    }
   ],
   "source": [
    "# Example 7 : An example that demonstrates shape and re-shape attributes.\n",
    "\n",
    "import numpy as np\n",
    "array2=np.array([[10,20,30],[40,50,5]])\n",
    "print(\"Original array :\"+'\\n',array2)\n",
    "array2.shape=(3,2)\n",
    "print(\"New array :\"+'\\n',array2)"
   ]
  },
  {
   "cell_type": "markdown",
   "metadata": {},
   "source": [
    "### Explanation :\n",
    "The goal of the above two examples is to demonstrate the shape and re-shape attributes of an array. To achieve this goal, in example 6, firstly, we define an array of dimensions 2 x 3 and use the built-in function array.shape() which returns the dimensions of the array. In Example 7, we define an array of dimensions 2 x 3 and use the same function to reshape the dimensions of the array to 3 x 2.\n",
    "The output is as shown."
   ]
  },
  {
   "cell_type": "markdown",
   "metadata": {},
   "source": [
    "## Indexing and Slicing "
   ]
  },
  {
   "cell_type": "code",
   "execution_count": 40,
   "metadata": {},
   "outputs": [
    {
     "name": "stdout",
     "output_type": "stream",
     "text": [
      "[ 1  4  7 10 13]\n"
     ]
    }
   ],
   "source": [
    "# Example 8 : An example that demonstrates Indexing and slicing in an array.\n",
    "\n",
    "import numpy as np\n",
    "var= np.arange(15)\n",
    "a=slice(1,14,3)\n",
    "print(var[a])"
   ]
  },
  {
   "cell_type": "markdown",
   "metadata": {},
   "source": [
    "## Explanation : \n",
    "*** The goal of the above example is to demonstrate slicing in an array. To achieve this goal, we first declare an array of range 15, ie. the elements within the array would be 0-14. Now we carry out slicing on this array. the function slice() takes three parameters viz. slice(start, stop, step). The \"Start\" indicates the element of the array from where it needs to be sliced. \"Stop\" indicated the element upto which the array needs to be sliced and \"Step\" is the number of steps between the elements.\n",
    "The output is as shown.***"
   ]
  },
  {
   "cell_type": "code",
   "execution_count": 44,
   "metadata": {},
   "outputs": [
    {
     "name": "stdout",
     "output_type": "stream",
     "text": [
      "The Sliced array is : [15 16 17 18 19 20 21 22 23 24]\n"
     ]
    }
   ],
   "source": [
    "# Example 9 : An example that demonstrates the slicing on the array.\n",
    "\n",
    "import numpy as np\n",
    "array=np.arange(30)\n",
    "print(\"The Sliced array is :\",array[15:25])"
   ]
  },
  {
   "cell_type": "markdown",
   "metadata": {},
   "source": [
    "## Explanation : \n",
    "***In the above example, we have sliced the array of range 30 form 15-25.***"
   ]
  },
  {
   "cell_type": "code",
   "execution_count": 50,
   "metadata": {},
   "outputs": [
    {
     "name": "stdout",
     "output_type": "stream",
     "text": [
      "Original Array => \n",
      " [[11 12 13]\n",
      " [13 14 15]\n",
      " [14 15 16]]\n",
      "The items in the second column are =>\n",
      " [12 14 15]\n",
      "The items in the second row are =>\n",
      " [13 14 15]\n",
      "The items column 1 onwards are =>\n",
      " [[12 13]\n",
      " [14 15]\n",
      " [15 16]]\n"
     ]
    }
   ],
   "source": [
    "# Example 10:\n",
    "\n",
    "# Original Array \n",
    "import numpy as np \n",
    "a = np.array([[11,12,13],[13,14,15],[14,15,16]]) \n",
    "print ('Original Array => '+'\\n',a)\n",
    "\n",
    "  \n",
    "# Array of items in the second column \n",
    "print ('The items in the second column are =>'+'\\n',a[...,1])  \n",
    "  \n",
    "\n",
    "# Now we will slice all items from the second row \n",
    "print ('The items in the second row are =>'+'\\n',a[1,...]) \n",
    "\n",
    "\n",
    "# Now we will slice all items from column 1 onwards \n",
    "print ('The items column 1 onwards are =>'+'\\n',a[...,1:]) \n"
   ]
  },
  {
   "cell_type": "markdown",
   "metadata": {},
   "source": [
    "## Explanation : \n",
    "***In the above example, we have demonstrated slicing on an array. Firstly, we have declared an array of dimensions 3 x 3. Then, we have sliced the second column of the array and lastly, we have sliced all items from the array right from column one.\n",
    "The output is as shown.***"
   ]
  },
  {
   "cell_type": "code",
   "execution_count": 57,
   "metadata": {},
   "outputs": [
    {
     "name": "stdout",
     "output_type": "stream",
     "text": [
      "The elements on the diagonal of the array are : [30 50 70]\n"
     ]
    }
   ],
   "source": [
    "# Example 11 : An example that demonstrates Integer Indexing on an array.\n",
    "\n",
    "import numpy as np\n",
    "array=np.array([[10,20,30],[40,50,60,],[70,80,90]])\n",
    "a=array[[0,1,2],[2,1,0]]\n",
    "print(\"The elements on the diagonal of the array are :\",a)"
   ]
  },
  {
   "cell_type": "markdown",
   "metadata": {},
   "source": [
    "## Explanation : \n",
    "***The goal of the above example is to demonstrate Integer indexing on the array. To achieve this goal, we declare an array of dimensions 3 x 3. One element of specified column from each row of the array object is selected. Hence, the row index contains all row numbers, and the column index specifies the element to be selected. Here [0,1,2] and [2,1,0] indicate the elements at positions (0,2),(1,1) and (2,0) respectively. The output is as shown.***"
   ]
  },
  {
   "cell_type": "code",
   "execution_count": 66,
   "metadata": {},
   "outputs": [
    {
     "name": "stdout",
     "output_type": "stream",
     "text": [
      "The original Array is => \n",
      " [[11 12 13]\n",
      " [14 15 16]\n",
      " [17 18 19]\n",
      " [20 21 22]]\n",
      "The Corner elements of the array are =>\n",
      " [[11 13]\n",
      " [20 22]]\n"
     ]
    }
   ],
   "source": [
    "# Example 12 \n",
    "\n",
    "import numpy as np\n",
    "array=np.array([[11,12,13],[14,15,16],[17,18,19],[20,21,22]])\n",
    "print(\"The original Array is => \"'\\n', array)\n",
    "\n",
    "rows = np.array([[0,0],[3,3]])\n",
    "cols = np.array([[0,2],[0,2]]) \n",
    "y = array[rows,cols] \n",
    "\n",
    "print (\"The Corner elements of the array are =>\"'\\n',y)"
   ]
  },
  {
   "cell_type": "markdown",
   "metadata": {},
   "source": [
    "## Explanation : \n",
    "***In the above example, we have demonstrated the indexing on the array of dimensions 4 x 3. The goal of this example is to print the elements on the corners. To achieve this, elements placed at corners of the array are selected. The row indices of selection are [0,0] and [3,3] whereas the column indices are [0,2] and [0,2]. The result is as shown.***\n"
   ]
  },
  {
   "cell_type": "markdown",
   "metadata": {},
   "source": [
    "## Iterations in an array"
   ]
  },
  {
   "cell_type": "code",
   "execution_count": 82,
   "metadata": {},
   "outputs": [
    {
     "name": "stdout",
     "output_type": "stream",
     "text": [
      "The Original array is =>\n",
      " [[ 1  6 11 16]\n",
      " [21 26 31 36]\n",
      " [41 46 51 56]]\n",
      "The Modified array is =>\n",
      "1\n",
      "6\n",
      "11\n",
      "16\n",
      "21\n",
      "26\n",
      "31\n",
      "36\n",
      "41\n",
      "46\n",
      "51\n",
      "56\n"
     ]
    }
   ],
   "source": [
    "# Example 13: An example that performs iterations in an array.\n",
    "\n",
    "import numpy as np\n",
    "a = np.arange(1,60,5)\n",
    "a = a.reshape(3,4)\n",
    "\n",
    "print (\"The Original array is =>\"'\\n', a)\n",
    "\n",
    "print (\"The Modified array is =>\")\n",
    "for x in np.nditer(a):\n",
    "   print (x)\n"
   ]
  },
  {
   "cell_type": "markdown",
   "metadata": {},
   "source": [
    "## Explanation : \n",
    "***In the above example, we have declared an array of elements from 0-59 with a step count of 5 and reshaped the array in the dimensions 3 x 4. numpy.nditer() is a function used to iterate through the array. \n",
    "The output is as shown.***"
   ]
  },
  {
   "cell_type": "markdown",
   "metadata": {},
   "source": [
    "## String Functions"
   ]
  },
  {
   "cell_type": "code",
   "execution_count": 94,
   "metadata": {},
   "outputs": [
    {
     "name": "stdout",
     "output_type": "stream",
     "text": [
      "Original String => ['Hey John']\n",
      "The Concatenated String is =>  ['Hey John' 'Hello Chris']\n"
     ]
    }
   ],
   "source": [
    "# Example 14: An example that demonstrates the concatenation of the strings.\n",
    "\n",
    "import numpy as np \n",
    "string= np.char.add(['Hey'],[' John']) \n",
    "print(\"Original String =>\",string)\n",
    "y=(np.char.add(['Hey', 'Hello'],[' John', ' Chris']))\n",
    "print (\"The Concatenated String is => \",y)"
   ]
  },
  {
   "cell_type": "markdown",
   "metadata": {},
   "source": [
    "## Explanation : \n",
    "***In the above example, we have demonstrated the concatenation of two strings.\n",
    "numpy.char.add() function concatenates the string elementwise. ***"
   ]
  },
  {
   "cell_type": "code",
   "execution_count": 97,
   "metadata": {},
   "outputs": [
    {
     "name": "stdout",
     "output_type": "stream",
     "text": [
      "Lower Case => ['datascience']\n",
      "Upper Case ['DATASCIENCE']\n"
     ]
    }
   ],
   "source": [
    "# Example 15: Example to demonstrate upper() and lower() functions on the strings.\n",
    "\n",
    "import numpy as np \n",
    "print (\"Lower Case =>\",np.char.lower(['DATASCIENCE']))\n",
    "print (\"Upper Case\",np.char.upper(['datascience']))"
   ]
  },
  {
   "cell_type": "code",
   "execution_count": 101,
   "metadata": {},
   "outputs": [
    {
     "name": "stdout",
     "output_type": "stream",
     "text": [
      "After Splitting => ['Intro', 'to', 'Data', 'Science']\n"
     ]
    }
   ],
   "source": [
    "# Example 16 : The following example demonstrates the split() function\n",
    "#The Split() function returns a list of words in the input string. \n",
    "#By default, a whitespace is used as a separator. Otherwise the specified separator character is used to spilt the string.\n",
    "\n",
    "import numpy as np \n",
    "print (\"After Splitting =>\",np.char.split ('Intro to Data Science')) "
   ]
  },
  {
   "cell_type": "markdown",
   "metadata": {},
   "source": [
    "## Polynomials"
   ]
  },
  {
   "cell_type": "code",
   "execution_count": 43,
   "metadata": {},
   "outputs": [
    {
     "name": "stdout",
     "output_type": "stream",
     "text": [
      "   2\n",
      "8 x + 6 x + 3\n",
      "    4      3      2\n",
      "64 x + 96 x + 84 x + 36 x + 9\n",
      "       3     2\n",
      "2.667 x + 3 x + 3 x + 3\n",
      " \n",
      "16 x + 6\n"
     ]
    },
    {
     "data": {
      "text/plain": [
       "array([ 93, 705])"
      ]
     },
     "execution_count": 43,
     "metadata": {},
     "output_type": "execute_result"
    }
   ],
   "source": [
    "# Example 1 : An example that demonstrates one-dimensional polynomials is scipy.\n",
    "\n",
    "from numpy import poly1d\n",
    "p = poly1d([8,6,3])\n",
    "print (p)\n",
    "print (p*p)\n",
    "print (p.integ(k=3))\n",
    "print (p.deriv())\n",
    "p([3, 9])\n"
   ]
  },
  {
   "cell_type": "markdown",
   "metadata": {
    "collapsed": true
   },
   "source": [
    "# Scipy"
   ]
  },
  {
   "cell_type": "markdown",
   "metadata": {},
   "source": [
    "## What is Scipy\n",
    "*** Scipy is an add-on to Python which gives access to large and vast array of numerical functions for scientific computing.\n",
    " Scipy is the collection of mathematical algorithms and  functions built on Numpy data structures.\n",
    " Scipy is organized into subpackages covering different scientific computing areas.\n",
    " It is a data-processing and prototyping environment rivaling MATLAB. ***"
   ]
  },
  {
   "cell_type": "code",
   "execution_count": 35,
   "metadata": {},
   "outputs": [
    {
     "name": "stdout",
     "output_type": "stream",
     "text": [
      "Integration of x to the power 2 is =>  129.0\n"
     ]
    }
   ],
   "source": [
    "# Example 1 : An example that demonstrates integration of a function.\n",
    "import scipy.integrate\n",
    "res, err=scipy.integrate.quad(lambda x: x**2,5,8)\n",
    "print(\"Integration of x to the power 2 is => \",res)"
   ]
  },
  {
   "cell_type": "code",
   "execution_count": 2,
   "metadata": {},
   "outputs": [
    {
     "name": "stdout",
     "output_type": "stream",
     "text": [
      "1024.0\n"
     ]
    }
   ],
   "source": [
    "# Example 2 : An example that demonstrates integration of a function.\n",
    "import scipy.integrate\n",
    "res, err=scipy.integrate.quad(lambda x: x**3,0.,8)\n",
    "print(res)"
   ]
  },
  {
   "cell_type": "markdown",
   "metadata": {},
   "source": [
    "## Explanation :\n",
    "***The above two examples demonstrate the integration of a function. The quad() function is used to carry out integration operation on a given function. It is present in the Scipy library.***"
   ]
  },
  {
   "cell_type": "code",
   "execution_count": 3,
   "metadata": {},
   "outputs": [
    {
     "data": {
      "text/plain": [
       "array([[ 0.78241817, -1.92252369,  8.77315571],\n",
       "       [ 1.3171449 ,  0.60796891, -4.2175421 ],\n",
       "       [-1.18377298,  1.45989577, -0.49322168]])"
      ]
     },
     "execution_count": 3,
     "metadata": {},
     "output_type": "execute_result"
    }
   ],
   "source": [
    "#Example 3 : An example that demonstrates linear algebraic functions using scipy library.\n",
    "\n",
    "import numpy as np\n",
    "import scipy.linalg\n",
    "a=np.random.rand(3,3)\n",
    "scipy.linalg.inv(a)\n"
   ]
  },
  {
   "cell_type": "markdown",
   "metadata": {},
   "source": [
    "## Explanation : \n",
    "***In the above example, we have demonstrated an example of linear algebra module from scipy. Firstly, we have imported numpy and used it to create a random 3 x 3 matrix. Now we use the inverse function in the linear algebra from the scipy library to calculate the inverse of the matrix.\n",
    "The output is as shown.***\n"
   ]
  },
  {
   "cell_type": "code",
   "execution_count": 4,
   "metadata": {},
   "outputs": [
    {
     "data": {
      "text/plain": [
       "array([ 1.15431320+0.j        , -0.05225982+0.27538286j,\n",
       "       -0.05225982-0.27538286j])"
      ]
     },
     "execution_count": 4,
     "metadata": {},
     "output_type": "execute_result"
    }
   ],
   "source": [
    "#Example 4 : An example that demonstrates linear algebraic functions on complex numbers using scipy library.\n",
    "\n",
    "import numpy as np\n",
    "import scipy.linalg\n",
    "a=np.random.rand(3,3)\n",
    "scipy.linalg.eigvals(a)\n"
   ]
  },
  {
   "cell_type": "markdown",
   "metadata": {},
   "source": [
    "## Explanation : \n",
    "***In the above example, we have demonstrated an example of linear algebra module from scipy. Firstly, we have imported numpy and used it to create a random 3 x 3 matrix. Now we use the eigvals function in the linear algebra from the scipy library to calculate the complex functions.\n",
    "The output is as shown. ***"
   ]
  },
  {
   "cell_type": "code",
   "execution_count": 7,
   "metadata": {},
   "outputs": [
    {
     "data": {
      "text/plain": [
       "2.8550038226912573"
      ]
     },
     "execution_count": 7,
     "metadata": {},
     "output_type": "execute_result"
    }
   ],
   "source": [
    "# Example 5 : An example that demonstrates interpolation of values.\n",
    "\n",
    "import numpy as np\n",
    "from scipy import interpolate, integrate\n",
    "varA=np.arange(-1,11)\n",
    "varB=np.exp(-varA/3.0)\n",
    "varC=interpolate.interp1d(varA,varB)\n",
    "integrate.simps(varB[1:-1],varA[1:-1])"
   ]
  },
  {
   "cell_type": "markdown",
   "metadata": {},
   "source": [
    "## Explanation :\n",
    "***In the above example, we have demonstrated an example of linear algebra module from scipy. Firstly, we have imported numpy and use it to interpolate the values of the variables. Here we define a range of variables from -1 to 11. varB is calculated on the basis of varA by calculating the exponential function and carry out the interpolation on the variables.\n",
    "This value is then saved in varC.***"
   ]
  },
  {
   "cell_type": "code",
   "execution_count": 28,
   "metadata": {},
   "outputs": [
    {
     "data": {
      "image/png": "[encoded data removed]",
      "text/plain": [
       "<matplotlib.figure.Figure at 0x19f2627bdd8>"
      ]
     },
     "metadata": {},
     "output_type": "display_data"
    }
   ],
   "source": [
    "# Example 6 : An example that demonstrates 1-D Interpolation.\n",
    "\n",
    "from scipy.interpolate import interp1d\n",
    "\n",
    "x = np.linspace(0, 10, num=11, endpoint=True)\n",
    "y = np.cos(-x**2/9.0)\n",
    "f = interp1d(x, y)\n",
    "f2 = interp1d(x, y, kind='cubic')\n",
    "\n",
    "xnew = np.linspace(0, 10, num=41, endpoint=True)\n",
    "import matplotlib.pyplot as plt\n",
    "plt.plot(x, y, 'o', xnew, f(xnew), '-', xnew, f2(xnew), '--')\n",
    "plt.legend(['data', 'linear', 'cubic'], loc='best')\n",
    "plt.show()"
   ]
  },
  {
   "cell_type": "markdown",
   "metadata": {},
   "source": [
    "## Explanation :\n",
    "***The interp1d class in scipy.interpolate is a convenient method to create a function based on fixed data points which can be evaluated anywhere within the domain defined by the given data using linear interpolation. An instance of this class is created by passing the 1-d vectors comprising the data. The instance of this class defines a __call__ method and can therefore by treated like a function which interpolates between known data values to obtain unknown values. Behavior at the boundary can be specified at instantiation time.***"
   ]
  },
  {
   "cell_type": "markdown",
   "metadata": {},
   "source": [
    "## Fourier Transform "
   ]
  },
  {
   "cell_type": "code",
   "execution_count": 52,
   "metadata": {},
   "outputs": [
    {
     "name": "stdout",
     "output_type": "stream",
     "text": [
      "Fast fourier transform of array x:\n",
      "[ 12.50000000+0.j          -3.27254249+1.06331351j  -0.47745751-0.65716389j\n",
      "  -0.47745751+0.65716389j  -3.27254249-1.06331351j]\n"
     ]
    }
   ],
   "source": [
    "# Example 1 : An example that demonstrates fourier transform.\n",
    "import numpy as np\n",
    "from scipy.fftpack import fft, ifft\n",
    "x = np.array([1.0, 2.0, 3.0, 4.0, 2.5]) # declaring an array of 5 values\n",
    "y = fft(x)\n",
    "print(\"Fast fourier transform of array x:\")\n",
    "print(y) #fast fourier transform of array x"
   ]
  },
  {
   "cell_type": "markdown",
   "metadata": {},
   "source": [
    "## Explanation : \n",
    "***In the above example, the goal is to perform fourier transform on an array. Using numpy library, we declare an array of 5 elements. The fftpack in the scipy library contains the functions for the fourier transform. We use fft() to carry out the Fourier transform on the array. ***"
   ]
  },
  {
   "cell_type": "markdown",
   "metadata": {},
   "source": [
    "## References :\n",
    "https://docs.scipy.org/doc/scipy-0.18.1/reference/index.html\n",
    "\n",
    "https://www.tutorialspoint.com/numpy/index.htm"
   ]
  }
 ],
 "metadata": {
  "kernelspec": {
   "display_name": "Python 3",
   "language": "python",
   "name": "python3"
  },
  "language_info": {
   "codemirror_mode": {
    "name": "ipython",
    "version": 3
   },
   "file_extension": ".py",
   "mimetype": "text/x-python",
   "name": "python",
   "nbconvert_exporter": "python",
   "pygments_lexer": "ipython3",
   "version": "3.6.4"
  }
 },
 "nbformat": 4,
 "nbformat_minor": 2
}
