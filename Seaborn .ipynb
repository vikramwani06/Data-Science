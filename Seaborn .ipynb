{
 "cells": [
  {
   "cell_type": "markdown",
   "metadata": {},
   "source": [
    "# Visualization of Data using Seaborn"
   ]
  },
  {
   "cell_type": "markdown",
   "metadata": {},
   "source": [
    "***The goal of this assignment is to visualize the data from the Baseball Dataset using Seaborn.***\n",
    "<li>Seaborn is a visualization library in Python that is based on matplotlib.\n",
    "<li>Seaborn helps us to create interactive charts and graphics.\n",
    "<li>For doing this, we have to import the libraries as shown below.\n",
    "<li>Here, we will also import Seaborn library to visualize the data."
   ]
  },
  {
   "cell_type": "code",
   "execution_count": 106,
   "metadata": {
    "collapsed": true
   },
   "outputs": [],
   "source": [
    "import numpy as np\n",
    "import pandas as pd\n",
    "\n",
    "import matplotlib.pyplot as plt\n",
    "import seaborn as sns\n"
   ]
  },
  {
   "cell_type": "code",
   "execution_count": 118,
   "metadata": {},
   "outputs": [
    {
     "data": {
      "text/html": [
       "<div>\n",
       "<style>\n",
       "    .dataframe thead tr:only-child th {\n",
       "        text-align: right;\n",
       "    }\n",
       "\n",
       "    .dataframe thead th {\n",
       "        text-align: left;\n",
       "    }\n",
       "\n",
       "    .dataframe tbody tr th {\n",
       "        vertical-align: top;\n",
       "    }\n",
       "</style>\n",
       "<table border=\"1\" class=\"dataframe\">\n",
       "  <thead>\n",
       "    <tr style=\"text-align: right;\">\n",
       "      <th></th>\n",
       "      <th>Gm#</th>\n",
       "      <th>Date</th>\n",
       "      <th>Tm</th>\n",
       "      <th>Opp</th>\n",
       "      <th>W/L</th>\n",
       "      <th>R</th>\n",
       "      <th>RA</th>\n",
       "      <th>Inn</th>\n",
       "      <th>W-L</th>\n",
       "      <th>Rank</th>\n",
       "      <th>GB</th>\n",
       "      <th>Win</th>\n",
       "      <th>Loss</th>\n",
       "      <th>Save</th>\n",
       "      <th>Time</th>\n",
       "      <th>D/N</th>\n",
       "      <th>Attendance</th>\n",
       "      <th>Streak</th>\n",
       "    </tr>\n",
       "  </thead>\n",
       "  <tbody>\n",
       "    <tr>\n",
       "      <th>0</th>\n",
       "      <td>1</td>\n",
       "      <td>Tuesday, Apr 5,2016</td>\n",
       "      <td>BOS</td>\n",
       "      <td>CLE</td>\n",
       "      <td>W</td>\n",
       "      <td>6</td>\n",
       "      <td>2</td>\n",
       "      <td>NaN</td>\n",
       "      <td>Jan-00</td>\n",
       "      <td>1</td>\n",
       "      <td>Tied</td>\n",
       "      <td>Price</td>\n",
       "      <td>Kluber</td>\n",
       "      <td>NaN</td>\n",
       "      <td>3:13</td>\n",
       "      <td>D</td>\n",
       "      <td>34,493</td>\n",
       "      <td>+</td>\n",
       "    </tr>\n",
       "    <tr>\n",
       "      <th>1</th>\n",
       "      <td>2</td>\n",
       "      <td>Wednesday, Apr 6,2016</td>\n",
       "      <td>BOS</td>\n",
       "      <td>CLE</td>\n",
       "      <td>L</td>\n",
       "      <td>6</td>\n",
       "      <td>7</td>\n",
       "      <td>NaN</td>\n",
       "      <td>1-Jan</td>\n",
       "      <td>2</td>\n",
       "      <td>1</td>\n",
       "      <td>McAllister</td>\n",
       "      <td>Tazawa</td>\n",
       "      <td>Allen</td>\n",
       "      <td>3:29</td>\n",
       "      <td>N</td>\n",
       "      <td>10,298</td>\n",
       "      <td>-</td>\n",
       "    </tr>\n",
       "    <tr>\n",
       "      <th>2</th>\n",
       "      <td>3</td>\n",
       "      <td>Friday, Apr 8,2016</td>\n",
       "      <td>BOS</td>\n",
       "      <td>TOR</td>\n",
       "      <td>W</td>\n",
       "      <td>8</td>\n",
       "      <td>7</td>\n",
       "      <td>NaN</td>\n",
       "      <td>1-Feb</td>\n",
       "      <td>2</td>\n",
       "      <td>1.5</td>\n",
       "      <td>Barnes</td>\n",
       "      <td>Storen</td>\n",
       "      <td>Kimbrel</td>\n",
       "      <td>3:24</td>\n",
       "      <td>N</td>\n",
       "      <td>48,871</td>\n",
       "      <td>+</td>\n",
       "    </tr>\n",
       "    <tr>\n",
       "      <th>3</th>\n",
       "      <td>4</td>\n",
       "      <td>Saturday, Apr 9,2016</td>\n",
       "      <td>BOS</td>\n",
       "      <td>TOR</td>\n",
       "      <td>W</td>\n",
       "      <td>8</td>\n",
       "      <td>4</td>\n",
       "      <td>NaN</td>\n",
       "      <td>1-Mar</td>\n",
       "      <td>2</td>\n",
       "      <td>1</td>\n",
       "      <td>Porcello</td>\n",
       "      <td>Dickey</td>\n",
       "      <td>NaN</td>\n",
       "      <td>2:48</td>\n",
       "      <td>D</td>\n",
       "      <td>47,138</td>\n",
       "      <td>++</td>\n",
       "    </tr>\n",
       "    <tr>\n",
       "      <th>4</th>\n",
       "      <td>5</td>\n",
       "      <td>Sunday, Apr 10,2016</td>\n",
       "      <td>BOS</td>\n",
       "      <td>TOR</td>\n",
       "      <td>L</td>\n",
       "      <td>0</td>\n",
       "      <td>3</td>\n",
       "      <td>NaN</td>\n",
       "      <td>2-Mar</td>\n",
       "      <td>2</td>\n",
       "      <td>2</td>\n",
       "      <td>Estrada</td>\n",
       "      <td>Wright</td>\n",
       "      <td>Osuna</td>\n",
       "      <td>2:27</td>\n",
       "      <td>D</td>\n",
       "      <td>46,158</td>\n",
       "      <td>-</td>\n",
       "    </tr>\n",
       "  </tbody>\n",
       "</table>\n",
       "</div>"
      ],
      "text/plain": [
       "   Gm#                   Date   Tm  Opp W/L  R  RA  Inn     W-L  Rank    GB  \\\n",
       "0    1    Tuesday, Apr 5,2016  BOS  CLE   W  6   2  NaN  Jan-00     1  Tied   \n",
       "1    2  Wednesday, Apr 6,2016  BOS  CLE   L  6   7  NaN   1-Jan     2     1   \n",
       "2    3     Friday, Apr 8,2016  BOS  TOR   W  8   7  NaN   1-Feb     2   1.5   \n",
       "3    4   Saturday, Apr 9,2016  BOS  TOR   W  8   4  NaN   1-Mar     2     1   \n",
       "4    5    Sunday, Apr 10,2016  BOS  TOR   L  0   3  NaN   2-Mar     2     2   \n",
       "\n",
       "          Win    Loss     Save  Time D/N Attendance Streak  \n",
       "0       Price  Kluber      NaN  3:13   D     34,493      +  \n",
       "1  McAllister  Tazawa    Allen  3:29   N     10,298      -  \n",
       "2      Barnes  Storen  Kimbrel  3:24   N     48,871      +  \n",
       "3    Porcello  Dickey      NaN  2:48   D     47,138     ++  \n",
       "4     Estrada  Wright    Osuna  2:27   D     46,158      -  "
      ]
     },
     "execution_count": 118,
     "metadata": {},
     "output_type": "execute_result"
    }
   ],
   "source": [
    "path='C:/Users/viki4/Desktop/Data Science/nba_newdata1.csv'\n",
    "teams=pd.read_csv(path)\n",
    "teams.columns=['Gm#','Date','Tm','Opp','W/L','R','RA','Inn','W-L','Rank','GB','Win','Loss','Save','Time','D/N','Attendance','Streak']\n",
    "teams.head()"
   ]
  },
  {
   "cell_type": "markdown",
   "metadata": {},
   "source": [
    "## Explanation:\n",
    "<li>The above block of code reads the CSV file from the directory and stores it in the dataset \"teams\".\n",
    "\n"
   ]
  },
  {
   "cell_type": "code",
   "execution_count": 131,
   "metadata": {},
   "outputs": [
    {
     "data": {
      "image/png": "[encoded data removed]",
      "text/plain": [
       "<matplotlib.figure.Figure at 0x1ac6bfb34a8>"
      ]
     },
     "metadata": {},
     "output_type": "display_data"
    }
   ],
   "source": [
    "#Barplot\n",
    "\n",
    "f,ax = plt.subplots(figsize=(8,4))\n",
    "\n",
    "sns.set_color_codes(\"dark\")\n",
    "sns.barplot(x=\"R\", y=\"RA\", data=teams.query('1 <= R <= 15' and '10 <= RA <= 20'),\n",
    "             color=\"r\")\n",
    "\n",
    "ax.set(ylabel=\"Runs Allowed\",\n",
    "       xlabel=\"Runs Scored\")\n",
    "sns.despine(left=True, bottom=True)\n"
   ]
  },
  {
   "cell_type": "markdown",
   "metadata": {},
   "source": [
    "## Explanation :\n",
    "<li>The above block of code visualizes the data in the dataset \"teams\" and creates a Barplot of the data.\n",
    "<li>Here, the graph represents the total Runs Scored on the x-axis and the Runs Allowed, on the y-axis.\n",
    "<li>The line f,ax = plt.subplots(figsize=(8,4)) sets the dimensions of the subplot to 8x4.\n",
    "<li>Here, data=teams.query() takes the range of the data to be displayed.\n",
    "<li>The graph represents runs scored for the total runs allowed. \n",
    "<li>ax.set() function is used to set the labels for the axes."
   ]
  },
  {
   "cell_type": "code",
   "execution_count": 109,
   "metadata": {},
   "outputs": [
    {
     "data": {
      "text/plain": [
       "<seaborn.axisgrid.FacetGrid at 0x1ac6f228588>"
      ]
     },
     "execution_count": 109,
     "metadata": {},
     "output_type": "execute_result"
    },
    {
     "data": {
      "image/png": "[encoded data removed]",
      "text/plain": [
       "<matplotlib.figure.Figure at 0x1ac6cab6668>"
      ]
     },
     "metadata": {},
     "output_type": "display_data"
    }
   ],
   "source": [
    "#Scatterplot\n",
    "\n",
    "g = sns.lmplot(x=\"R\", y=\"RA\",truncate=True, size=5, data=teams.query('1<=R<=15'))\n",
    "g.set_axis_labels(\"Runs Scored\", \"Runs Allowed\")"
   ]
  },
  {
   "cell_type": "markdown",
   "metadata": {},
   "source": [
    "## Explanation : \n",
    "<li> The above block of code creates a scatter plot of the Runs from the \"teams\" dataset.\n",
    "<li>The function sns.lmplot() is a combination of regplot() and FacetGrid.\n",
    "<li>lmplot() takes the x-axis and y-axis parameters\n",
    "<li>truncate is a boolean parameter. It is set to True so that the regression line should be bounded by the data limits.\n",
    "<li>size=5 specified the height of the facet.\n",
    "<li>data=teams is the dataset.\n"
   ]
  },
  {
   "cell_type": "code",
   "execution_count": 136,
   "metadata": {},
   "outputs": [
    {
     "data": {
      "text/plain": [
       "<seaborn.axisgrid.FacetGrid at 0x1ac6fcf6b70>"
      ]
     },
     "execution_count": 136,
     "metadata": {},
     "output_type": "execute_result"
    },
    {
     "data": {
      "image/png": "[encoded data removed]",
      "text/plain": [
       "<matplotlib.figure.Figure at 0x1ac738c8dd8>"
      ]
     },
     "metadata": {},
     "output_type": "display_data"
    }
   ],
   "source": [
    "\n",
    "#Grouped Barplot\n",
    "\n",
    "g = sns.factorplot(x=\"Rank\", y=\"Gm#\", data=teams,\n",
    "                   size=5, kind=\"bar\", palette=\"muted\")\n",
    "g.despine(left=True)\n",
    "g.set_ylabels(\"Games\")\n"
   ]
  },
  {
   "cell_type": "markdown",
   "metadata": {},
   "source": [
    "## Explanation :\n",
    "<li>The above block of code creates a factorplot of kind bar\n",
    "<li>The graph represents the ranking information of the teams from the total number of games played.\n",
    "<li>The x-axis represents the Ranks while the y-axis represents the total number of games.\n",
    "<li>sns.despine() removes the left spines from the plot."
   ]
  },
  {
   "cell_type": "code",
   "execution_count": 111,
   "metadata": {},
   "outputs": [
    {
     "data": {
      "text/plain": [
       "[<matplotlib.text.Text at 0x1ac6f54c6a0>,\n",
       " <matplotlib.text.Text at 0x1ac6f3ca898>]"
      ]
     },
     "execution_count": 111,
     "metadata": {},
     "output_type": "execute_result"
    },
    {
     "data": {
      "image/png": "[encoded data removed]",
      "text/plain": [
       "<matplotlib.figure.Figure at 0x1ac6c34c160>"
      ]
     },
     "metadata": {},
     "output_type": "display_data"
    }
   ],
   "source": [
    "f, ax = plt.subplots(figsize=(6, 4))\n",
    "\n",
    "sns.boxplot(x=\"W/L\", y=\"Gm#\", data=teams,\n",
    "            whis=np.inf, palette=\"vlag\")\n",
    "\n",
    "ax.set(ylabel=\"Number of games\", xlabel='Win/Lose')\n"
   ]
  },
  {
   "cell_type": "markdown",
   "metadata": {},
   "source": [
    "## Explanation :\n",
    "<li>The above block of code creates a box plot of the information from the dataset \"teams\". \n",
    "<li>The graph represents Win and Lose information of the teams from the total games played.\n",
    "<li>The x-axis represents the Win/Lose data while the y-axis represents the number of games played.\n"
   ]
  },
  {
   "cell_type": "markdown",
   "metadata": {},
   "source": [
    "## References: \n",
    "https://seaborn.pydata.org/index.html"
   ]
  }
 ],
 "metadata": {
  "kernelspec": {
   "display_name": "Python 3",
   "language": "python",
   "name": "python3"
  },
  "language_info": {
   "codemirror_mode": {
    "name": "ipython",
    "version": 3
   },
   "file_extension": ".py",
   "mimetype": "text/x-python",
   "name": "python",
   "nbconvert_exporter": "python",
   "pygments_lexer": "ipython3",
   "version": "3.6.4"
  }
 },
 "nbformat": 4,
 "nbformat_minor": 2
}
